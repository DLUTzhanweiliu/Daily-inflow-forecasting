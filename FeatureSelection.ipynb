{
 "cells": [
  {
   "cell_type": "markdown",
   "metadata": {},
   "source": [
    "# Import module"
   ]
  },
  {
   "cell_type": "code",
   "execution_count": 1,
   "metadata": {},
   "outputs": [],
   "source": [
    "__author__ = 'Zhanwei Liu'\n",
    "\n",
    "import pandas as pd\n",
    "import numpy as np\n",
    "from scipy.stats import norm\n",
    "\n",
    "from sklearn.ensemble import GradientBoostingRegressor\n",
    "from sklearn.preprocessing import MinMaxScaler,StandardScaler\n",
    "from sklearn.model_selection import train_test_split\n",
    "from sklearn.model_selection import TimeSeriesSplit\n",
    "from sklearn.metrics import  mean_absolute_error\n",
    "from sklearn.model_selection import cross_validate\n",
    "from sklearn.metrics import make_scorer\n",
    "\n",
    "from statsmodels.tsa.stattools import acf\n",
    "from statsmodels.tsa.stattools import pacf\n",
    "from statsmodels.tsa.stattools import ccf\n",
    "\n",
    "from minepy import MINE\n",
    "\n",
    "# Custom module\n",
    "# from imp import reload\n",
    "# reload(MyPrepaData)\n",
    "from MyEvalCriteria import mae,rmse,corr,KGE,ia,BHV\n",
    "import MyPrepaData\n",
    "\n",
    "# Plot setting\n",
    "import seaborn as sns\n",
    "\n",
    "import matplotlib.pyplot as plt\n",
    "from matplotlib import rcParams\n",
    "rcParams['font.sans-serif'] = 'Times New Roman'"
   ]
  },
  {
   "cell_type": "markdown",
   "metadata": {},
   "source": [
    "# Preparation data"
   ]
  },
  {
   "cell_type": "code",
   "execution_count": 2,
   "metadata": {},
   "outputs": [],
   "source": [
    "# 2011-2014 训练集；2015-2016 验证集；2017-2018 测试集。\n",
    "data = pd.read_csv('2011-2018再分析和流量数据.csv',index_col=0)\n",
    "data_train,data_test = data[:'20151231'],data['20151231':]"
   ]
  },
  {
   "cell_type": "code",
   "execution_count": 3,
   "metadata": {},
   "outputs": [],
   "source": [
    "# Calc MIC\n",
    "mine = MINE(alpha=0.6, c=15,est='mic_approx')\n",
    "def mic(a,b):\n",
    "    mine.compute_score(a,b)\n",
    "    return mine.mic()"
   ]
  },
  {
   "cell_type": "code",
   "execution_count": 4,
   "metadata": {},
   "outputs": [
    {
     "data": {
      "text/plain": [
       "2011-01-01    420\n",
       "2011-01-02    415\n",
       "2011-01-03    435\n",
       "2011-01-04    415\n",
       "2011-01-05    433\n",
       "             ... \n",
       "2015-12-27    411\n",
       "2015-12-28    284\n",
       "2015-12-29    356\n",
       "2015-12-30    292\n",
       "2015-12-31    332\n",
       "Name: Q, Length: 1826, dtype: int64"
      ]
     },
     "execution_count": 4,
     "metadata": {},
     "output_type": "execute_result"
    }
   ],
   "source": [
    "data_train.Q"
   ]
  },
  {
   "cell_type": "markdown",
   "metadata": {},
   "source": [
    "# Determining the lag of runoff and rainfall"
   ]
  },
  {
   "cell_type": "code",
   "execution_count": 16,
   "metadata": {},
   "outputs": [
    {
     "data": {
      "image/png": "[encoded data removed]",
      "text/plain": [
       "<Figure size 396.72x162 with 2 Axes>"
      ]
     },
     "metadata": {
      "needs_background": "light"
     },
     "output_type": "display_data"
    }
   ],
   "source": [
    "def mypacf(x, nlags=40, method='ols-unbiased', alpha=None):\n",
    "    Qpacf = pacf(x=x, nlags=nlags, method=method, alpha=alpha)\n",
    "    if alpha is not None:\n",
    "        '''\n",
    "        Calculation method of confidence interval：\n",
    "        varacf = 1. / len(x)  # the length of series\n",
    "        # ppf: Percent point function (inverse of cumulative distribution function(cdf))\n",
    "        interval = stats.norm.ppf(1. - alpha / 2.) * np.sqrt(varacf) (while alpha=0.05, ≈ 1.96/√N)\n",
    "        \n",
    "        ref1: https://www.itl.nist.gov/div898/handbook/pmc/section4/pmc4463.htm\n",
    "        ref2: https://www.statsmodels.org/stable/_modules/statsmodels/tsa/stattools.html#pacf\n",
    "        '''\n",
    "        interval = abs((Qpacf[1][:,0]- Qpacf[0])[1])\n",
    "        return Qpacf[0],[interval for i in range(nlags+1)],[-interval for i in range(nlags+1)]\n",
    "    else:\n",
    "        return Qpacf[0]\n",
    "def myccf(x, y, nlags=50,unbiased=True, alpha=None):\n",
    "    cc = ccf(x=x,y=y,unbiased=True)\n",
    "    if alpha is not None:\n",
    "        varccf = 1. / len(x)\n",
    "        interval = norm.ppf(1. - alpha / 2.) * np.sqrt(varccf)\n",
    "        return cc[:nlags+1],[-varccf + interval for i in range(nlags+1)],[-varccf - interval for i in range(nlags+1)]\n",
    "    else:\n",
    "        return cc[:nlags]\n",
    "\n",
    "def myplot_pacf(x, nlags=40, method='ywunbiased', alpha=None):\n",
    "    if alpha is not None:\n",
    "        Qpacf,up,bottom = mypacf(x=x, nlags=nlags, method=method, alpha=alpha)\n",
    "        plt.plot(Qpacf)\n",
    "        plt.plot(up)\n",
    "        plt.plot(bottom)\n",
    "    else:\n",
    "        Qpacf = mypacf(x=x, nlags=nlags, method=method, alpha=alpha)\n",
    "        plt.plot(Qpacf)\n",
    "\n",
    "def myplot_ccf(x, y, nlags=50,unbiased=True, alpha=None):\n",
    "    if alpha is not None:\n",
    "        Qccf,up,bottom = myccf(x=x,y=y,nlags=nlags,unbiased=unbiased,alpha=alpha)\n",
    "        plt.plot(Qccf)\n",
    "        plt.plot(up)\n",
    "        plt.plot(bottom)\n",
    "    else:\n",
    "        Qccf = myccf(x=x,y=y,nlags=nlags,unbiased=unbiased,alpha=alpha)\n",
    "        plt.plot(Qccf)\n",
    "Qpacf,up,bottom = mypacf(x=data_train.Q.values,nlags=12,alpha=0.05)\n",
    "Qccf,upccf,bottomccf = myccf(x=data_train.real_p.values,y=data_train.Q.values,alpha=0.05,nlags=12)\n",
    "'''\n",
    "Plot Partial autocorrelation function（PACF）and Cross correlation function（CCF）\n",
    "'''\n",
    "fig = plt.figure(figsize=(5.51,2.25))\n",
    "rcParams.update({'font.size': 7})\n",
    "plt.subplot(121)\n",
    "plt.bar(range(1,len(list(Qpacf))),list(Qpacf)[1:])\n",
    "plt.plot(range(1,len(up)),up[1:],ls='--',c='r',lw=0.5)\n",
    "plt.plot(range(1,len(up)),bottom[1:],ls='--',c='r',lw=0.5)\n",
    "plt.hlines(y=0,xmin=-1,xmax=100,lw=0.5)\n",
    "plt.xlim(0,13)\n",
    "plt.xticks(range(1,13,1))\n",
    "plt.xlabel('Lag Number')\n",
    "plt.ylabel('PACF')\n",
    "plt.ylim(top=1)\n",
    "plt.yticks(np.linspace(0,1,6))\n",
    "plt.annotate(\"95% confidence band\",xy=(5,0.05),xytext=(6,0.2),color=\"r\",\n",
    "arrowprops=dict(arrowstyle=\"->\",connectionstyle=\"arc3\",color=\"r\",linewidth=0.5))\n",
    "plt.text(s='(a)',x=12,y=0.9)\n",
    "\n",
    "plt.subplot(122)\n",
    "plt.bar(range(1,len(list(Qccf))),list(Qccf)[1:])\n",
    "plt.plot(range(1,len(upccf)),upccf[1:],ls='--',c='r',lw=0.5)\n",
    "plt.plot(range(1,len(upccf)),bottomccf[1:],ls='--',c='r',lw=0.5)\n",
    "plt.hlines(y=0,xmin=-1,xmax=100,lw=0.5)\n",
    "plt.xlim(0,13)\n",
    "plt.xticks(range(1,13,1))\n",
    "plt.yticks(np.linspace(0,0.4,5),['%.1f'%i for i in np.linspace(0,0.4,5)])\n",
    "plt.annotate(\"95% confidence band\",xy=(5,0.05),xytext=(6,0.1),color=\"r\",\n",
    "arrowprops=dict(arrowstyle=\"->\",connectionstyle=\"arc3\",color=\"r\",linewidth=0.5))\n",
    "plt.xlabel('Lag Number')\n",
    "plt.ylabel('CCF')\n",
    "fig.tight_layout()\n",
    "plt.subplots_adjust(wspace=0.25)\n",
    "plt.text(s='(b)',x=12,y=0.36)\n",
    "plt.savefig('PACF-CCF.tif',dpi=300,bbox_inches='tight',pad_inches=0.05)\n",
    "print(end='')"
   ]
  },
  {
   "cell_type": "code",
   "execution_count": 27,
   "metadata": {},
   "outputs": [
    {
     "name": "stderr",
     "output_type": "stream",
     "text": [
      "E:\\software\\Anaconda\\lib\\site-packages\\statsmodels\\tsa\\stattools.py:572: FutureWarning: fft=True will become the default in a future version of statsmodels. To suppress this warning, explicitly set fft=False.\n",
      "  FutureWarning\n"
     ]
    },
    {
     "data": {
      "image/png": "[encoded data removed]",
      "text/plain": [
       "<Figure size 180.72x162 with 1 Axes>"
      ]
     },
     "metadata": {
      "needs_background": "light"
     },
     "output_type": "display_data"
    }
   ],
   "source": [
    "def myacf(x, nlags=40, method='ywunbiased', alpha=None):\n",
    "    Qacf = acf(x=x, nlags=nlags, alpha=alpha)\n",
    "    if alpha is not None:\n",
    "        '''\n",
    "        Calculation method of confidence interval：\n",
    "        varacf = 1. / len(x)  # the length of series\n",
    "        # ppf: Percent point function (inverse of cumulative distribution function(cdf))\n",
    "        interval = stats.norm.ppf(1. - alpha / 2.) * np.sqrt(varacf) (while alpha=0.05, ≈ 1.96/√N)\n",
    "        \n",
    "        ref1: https://www.itl.nist.gov/div898/handbook/pmc/section4/pmc4463.htm\n",
    "        ref2: https://www.statsmodels.org/stable/_modules/statsmodels/tsa/stattools.html#pacf\n",
    "        '''\n",
    "        interval = abs((Qacf[1][:,0]- Qacf[0])[1])\n",
    "        return Qacf[0],[interval for i in range(nlags+1)],[-interval for i in range(nlags+1)]\n",
    "    else:\n",
    "        return Qacf[0]\n",
    "Qacf,up,bottom = myacf(x=data_train.Q.values,nlags=12,alpha=0.05)\n",
    "fig = plt.figure(figsize=(2.51,2.25))\n",
    "rcParams.update({'font.size': 7})\n",
    "plt.bar(range(1,len(list(Qacf))),list(Qacf)[1:])\n",
    "plt.plot(range(1,len(up)),up[1:],ls='--',c='r',lw=0.5)\n",
    "plt.plot(range(1,len(up)),bottom[1:],ls='--',c='r',lw=0.5)\n",
    "plt.hlines(y=0,xmin=-1,xmax=100,lw=0.5)\n",
    "plt.xlim(0,13)\n",
    "plt.xticks(range(1,13,1))\n",
    "plt.xlabel('Lag Number')\n",
    "plt.ylabel('ACF')\n",
    "plt.ylim(top=1)\n",
    "plt.yticks(np.linspace(0,1,6))\n",
    "plt.annotate(\"95% confidence band\",xy=(5,0.05),xytext=(6,0.2),color=\"r\",\n",
    "arrowprops=dict(arrowstyle=\"->\",connectionstyle=\"arc3\",color=\"r\",linewidth=0.5))\n",
    "plt.savefig('ACF.tif',dpi=300,bbox_inches='tight',pad_inches=0.05)\n",
    "# plt.annotate(\"95% confidence band\",xy=(5,0.05),xytext=(6,0.2),color=\"r\",\n",
    "# arrowprops=dict(arrowstyle=\"->\",connectionstyle=\"arc3\",color=\"r\",linewidth=0.5))"
   ]
  },
  {
   "cell_type": "markdown",
   "metadata": {},
   "source": [
    "<font size=4 face=\"宋体\">使用GBRT模型选择径流的滞后项与降雨的滞后项，首选选择一组默认参数，然后对各组特征进行计算选择误差较小的一组特征作为输入特征。2011-2014年为训练集，2015-2016年为验证集。根据PACF和CCF的分析，选择径流滞后1，4阶必选，降雨滞后1，2，3...20阶段备选,共21组备选输入结构:</font>\n",
    "- 1.$Q_{t-1}$, $Q_{t-4}$\n",
    "- 2.$Q_{t-1}$, $Q_{t-4}$, $R_{t-1}$\n",
    "- 3.$Q_{t-1}$, $Q_{t-4}$, $R_{t-1}$, $R_{t-2}$  \n",
    "- ...  \n",
    "- 12.$Q_{t-1}$, $Q_{t-4}$, $R_{t-1}$, $R_{t-2}$, ..., $R_{t-11}$\n",
    "- 13.$Q_{t-1}$, $Q_{t-4}$, $R_{t-1}$, $R_{t-2}$, ..., $R_{t-12}$  \n",
    "<font size=4 face=\"宋体\">默认参数：</font>\n",
    "    loss='ls',\n",
    "    learning_rate=0.1,\n",
    "    n_estimators=100,\n",
    "    subsample=1.0,\n",
    "    criterion='friedman_mse',\n",
    "    min_samples_split=2,\n",
    "    min_samples_leaf=1,\n",
    "    min_weight_fraction_leaf=0.0,\n",
    "    max_depth=3,\n",
    "    min_impurity_decrease=0.0,\n",
    "    min_impurity_split=None,\n",
    "    init=None,\n",
    "    random_state=None,\n",
    "    max_features=None,\n",
    "    alpha=0.9,\n",
    "    verbose=0,\n",
    "    max_leaf_nodes=None,\n",
    "    warm_start=False,\n",
    "    presort='auto',\n",
    "    validation_fraction=0.1,\n",
    "    n_iter_no_change=None,\n",
    "    tol=0.0001,"
   ]
  },
  {
   "cell_type": "code",
   "execution_count": 13,
   "metadata": {},
   "outputs": [],
   "source": [
    "# micQ1 = pd.read_excel('result.xls',index_col=1,header=None)\n",
    "# reanalysis = micQ1.index\n",
    "reanalysis = ['stl3', 'd2m', 'tcwv', 'tcw', 'stl2', 'mn2t', 'tsn', 'stl4', 'stl1',\n",
    "       'ro', 'swvl1', 'swvl2', 'swvl3', 't2m', 'swvl4', 'mx2t', 'sf', 'cp',\n",
    "       'tp', 'rsn', 'lsp', 'sd', 'smlt', 'istl1', 'istl3', 'istl2']"
   ]
  },
  {
   "cell_type": "code",
   "execution_count": 14,
   "metadata": {
    "scrolled": false
   },
   "outputs": [
    {
     "name": "stdout",
     "output_type": "stream",
     "text": [
      "预见期1:  ; 最优降雨滞后：6 ; 最优再分析滞后：8\n",
      "Wall time: 46.4 s\n"
     ]
    },
    {
     "data": {
      "image/png": "[encoded data removed]",
      "text/plain": [
       "<Figure size 360x216 with 1 Axes>"
      ]
     },
     "metadata": {
      "needs_background": "light"
     },
     "output_type": "display_data"
    },
    {
     "data": {
      "image/png": "[encoded data removed]",
      "text/plain": [
       "<Figure size 576x216 with 1 Axes>"
      ]
     },
     "metadata": {
      "needs_background": "light"
     },
     "output_type": "display_data"
    }
   ],
   "source": [
    "%%time\n",
    "'''\n",
    "针对每个预见期寻找最优的输入。\n",
    "'''\n",
    "rcParams.update({'font.size': 7})\n",
    "Rlag = 13\n",
    "itera = 50\n",
    "model = GradientBoostingRegressor()\n",
    "for leadtime in [1]:\n",
    "    df = pd.DataFrame(columns=['input structure','mae'])\n",
    "    for i in range(1,Rlag+1):\n",
    "        X, y =  MyPrepaData.Preparation(data=data_train,Qlag=[1,4],Rlag=range(1,i),isreanalysis=False,leadtime=leadtime)\n",
    "        length = X.shape[0]\n",
    "        tscv =  iter([(np.arange(length-731, dtype=int),np.arange(length-731,length, dtype=int)) for i in range(itera)])\n",
    "        score = cross_validate(model,X,y,cv=tscv,scoring=make_scorer(mae,greater_is_better=False),n_jobs=-1, verbose=0)\n",
    "        df = df.append([{'input structure':i,'mae':-_} for _ in score['test_score']],ignore_index=True)\n",
    "\n",
    "    df2 = pd.DataFrame(df.set_index(['input structure']).values.reshape(Rlag,itera)).median(axis=1)\n",
    "    opt_Rlag = df2.idxmin()\n",
    "\n",
    "    plt.figure(figsize=(5,3))\n",
    "    plt.subplot(111)\n",
    "    ax = sns.boxplot(x=\"input structure\", y=\"mae\", data=df,linewidth=0.5,fliersize=1)\n",
    "    plt.xticks(range(0,13),range(1,14))\n",
    "    plt.ylim(130,144)\n",
    "    plt.yticks(range(130,145,2))\n",
    "    plt.ylabel('MAE (m$^3$/s)')\n",
    "    plt.xlabel('Input structure')\n",
    "    plt.savefig('inputrainfall%d.tif'%leadtime,dpi=500,bbox_inches='tight')\n",
    "\n",
    "    Relag = len(reanalysis)\n",
    "    dfmic = pd.DataFrame(columns=['input structure','mae'])\n",
    "    for i in range(1,Relag+1):\n",
    "        X,y = MyPrepaData.Preparation(data=data_train,Qlag=[1,4],Rlag=range(1,opt_Rlag+1),\n",
    "                          reanalysis=reanalysis[:i],isreanalysis=True,leadtime=leadtime)\n",
    "        length = X.shape[0]\n",
    "        tscv =  iter([(np.arange(length-731, dtype=int),np.arange(length-731,length, dtype=int)) for i in range(itera)])\n",
    "        score = cross_validate(model,X,y,cv=tscv,scoring=make_scorer(mae,greater_is_better=False),n_jobs=-1, verbose=0)\n",
    "        dfmic = dfmic.append([{'input structure':i,'mae':-_} for _ in score['test_score']],ignore_index=True)\n",
    "    dfmic2 = pd.DataFrame(dfmic.set_index(['input structure']).values.reshape(Relag,itera)).median(axis=1)\n",
    "    opt_Relag = dfmic2.idxmin()+1\n",
    "\n",
    "    plt.figure(figsize=(8,3))\n",
    "    ax = sns.boxplot(x=\"input structure\", y=\"mae\", data=dfmic,linewidth=0.5,fliersize=1)\n",
    "    plt.xticks(range(0,26,1),range(1,27,1))\n",
    "    plt.ylim(127,135)\n",
    "    plt.yticks(range(127,136,2))\n",
    "    plt.ylabel('MAE (m$^3$/s)')\n",
    "    plt.xlabel('Input structure')\n",
    "    plt.savefig('inputreanalysis%d.tif'%leadtime,dpi=500,bbox_inches='tight')\n",
    "    \n",
    "    print('预见期%d: '%leadtime,'; 最优降雨滞后：%d'%opt_Rlag,'; 最优再分析滞后：%d'%opt_Relag)"
   ]
  },
  {
   "cell_type": "code",
   "execution_count": null,
   "metadata": {},
   "outputs": [],
   "source": []
  }
 ],
 "metadata": {
  "kernelspec": {
   "display_name": "Python 3",
   "language": "python",
   "name": "python3"
  },
  "language_info": {
   "codemirror_mode": {
    "name": "ipython",
    "version": 3
   },
   "file_extension": ".py",
   "mimetype": "text/x-python",
   "name": "python",
   "nbconvert_exporter": "python",
   "pygments_lexer": "ipython3",
   "version": "3.7.4"
  },
  "toc": {
   "base_numbering": 1,
   "nav_menu": {},
   "number_sections": true,
   "sideBar": true,
   "skip_h1_title": false,
   "title_cell": "Table of Contents",
   "title_sidebar": "Contents",
   "toc_cell": false,
   "toc_position": {},
   "toc_section_display": true,
   "toc_window_display": true
  }
 },
 "nbformat": 4,
 "nbformat_minor": 2
}
