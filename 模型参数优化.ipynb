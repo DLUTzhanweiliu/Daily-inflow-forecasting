{
 "cells": [
  {
   "cell_type": "code",
   "execution_count": 4,
   "metadata": {},
   "outputs": [],
   "source": [
    "import pandas as pd\n",
    "import numpy as np\n",
    "import matplotlib.pyplot as plt\n",
    "\n",
    "from sklearn.preprocessing import MinMaxScaler\n",
    "from sklearn.model_selection import train_test_split\n",
    "from sklearn.model_selection import TimeSeriesSplit\n",
    "from sklearn.neural_network import MLPRegressor\n",
    "from sklearn.ensemble import GradientBoostingRegressor\n",
    "from sklearn.svm import SVR\n",
    "\n",
    "import pickle\n",
    "\n",
    "from sklearn.model_selection import GridSearchCV\n",
    "from sklearn.metrics import  mean_absolute_error\n",
    "from sklearn.metrics import make_scorer\n",
    "\n",
    "\n",
    "from imp import reload\n",
    "import MyPrepaData\n",
    "reload(MyPrepaData)\n",
    "from MyEvalCriteria import mae,rmse,corr,KGE,ia,BHV\n",
    "\n",
    "%matplotlib inline"
   ]
  },
  {
   "cell_type": "code",
   "execution_count": 2,
   "metadata": {},
   "outputs": [
    {
     "data": {
      "text/plain": [
       "Index(['stl3', 'd2m', 'tcwv', 'tcw', 'stl2', 'mn2t', 'tsn', 'stl4'], dtype='object', name=1)"
      ]
     },
     "execution_count": 2,
     "metadata": {},
     "output_type": "execute_result"
    }
   ],
   "source": [
    "micQ1 = pd.read_excel('result.xls',index_col=1,header=None)\n",
    "reanalysis = micQ1.index[:8]\n",
    "reanalysis"
   ]
  },
  {
   "cell_type": "code",
   "execution_count": 256,
   "metadata": {},
   "outputs": [
    {
     "name": "stdout",
     "output_type": "stream",
     "text": [
      "Fitting 1 folds for each of 40000 candidates, totalling 40000 fits\n"
     ]
    },
    {
     "name": "stderr",
     "output_type": "stream",
     "text": [
      "[Parallel(n_jobs=-1)]: Using backend LokyBackend with 12 concurrent workers.\n",
      "[Parallel(n_jobs=-1)]: Done  26 tasks      | elapsed:    3.9s\n",
      "[Parallel(n_jobs=-1)]: Done 332 tasks      | elapsed:    6.3s\n",
      "[Parallel(n_jobs=-1)]: Done 1332 tasks      | elapsed:   14.3s\n",
      "[Parallel(n_jobs=-1)]: Done 2732 tasks      | elapsed:   26.3s\n",
      "[Parallel(n_jobs=-1)]: Done 4532 tasks      | elapsed:   45.1s\n",
      "[Parallel(n_jobs=-1)]: Done 6732 tasks      | elapsed:  1.3min\n",
      "[Parallel(n_jobs=-1)]: Done 8102 tasks      | elapsed:  1.7min\n",
      "[Parallel(n_jobs=-1)]: Done 9602 tasks      | elapsed:  2.3min\n",
      "[Parallel(n_jobs=-1)]: Done 11302 tasks      | elapsed:  3.0min\n",
      "[Parallel(n_jobs=-1)]: Done 13202 tasks      | elapsed:  3.8min\n",
      "[Parallel(n_jobs=-1)]: Done 15302 tasks      | elapsed:  4.9min\n",
      "[Parallel(n_jobs=-1)]: Done 17602 tasks      | elapsed:  6.1min\n",
      "[Parallel(n_jobs=-1)]: Done 19997 tasks      | elapsed:  7.5min\n",
      "[Parallel(n_jobs=-1)]: Done 21347 tasks      | elapsed:  8.2min\n",
      "[Parallel(n_jobs=-1)]: Done 22797 tasks      | elapsed:  9.2min\n",
      "[Parallel(n_jobs=-1)]: Done 24347 tasks      | elapsed: 10.2min\n",
      "[Parallel(n_jobs=-1)]: Done 25997 tasks      | elapsed: 11.2min\n",
      "[Parallel(n_jobs=-1)]: Done 27747 tasks      | elapsed: 12.6min\n",
      "[Parallel(n_jobs=-1)]: Done 29597 tasks      | elapsed: 13.7min\n",
      "[Parallel(n_jobs=-1)]: Done 31547 tasks      | elapsed: 15.3min\n",
      "[Parallel(n_jobs=-1)]: Done 33597 tasks      | elapsed: 16.6min\n",
      "[Parallel(n_jobs=-1)]: Done 35747 tasks      | elapsed: 18.6min\n",
      "[Parallel(n_jobs=-1)]: Done 37997 tasks      | elapsed: 20.1min\n",
      "[Parallel(n_jobs=-1)]: Done 40000 out of 40000 | elapsed: 22.1min finished\n"
     ]
    },
    {
     "name": "stdout",
     "output_type": "stream",
     "text": [
      "Wall time: 22min 4s\n",
      "{'max_depth': 3, 'max_leaf_nodes': 8, 'min_samples_leaf': 6, 'min_samples_split': 16} -125.5868285156934\n",
      "Fitting 1 folds for each of 40000 candidates, totalling 40000 fits\n"
     ]
    },
    {
     "name": "stderr",
     "output_type": "stream",
     "text": [
      "[Parallel(n_jobs=-1)]: Using backend LokyBackend with 12 concurrent workers.\n",
      "[Parallel(n_jobs=-1)]: Done  32 tasks      | elapsed:    0.6s\n",
      "[Parallel(n_jobs=-1)]: Done 632 tasks      | elapsed:    5.8s\n",
      "[Parallel(n_jobs=-1)]: Done 1632 tasks      | elapsed:   14.6s\n",
      "[Parallel(n_jobs=-1)]: Done 3032 tasks      | elapsed:   27.4s\n",
      "[Parallel(n_jobs=-1)]: Done 4832 tasks      | elapsed:   49.8s\n",
      "[Parallel(n_jobs=-1)]: Done 7032 tasks      | elapsed:  1.4min\n",
      "[Parallel(n_jobs=-1)]: Done 9010 tasks      | elapsed:  2.0min\n",
      "[Parallel(n_jobs=-1)]: Done 10510 tasks      | elapsed:  2.6min\n",
      "[Parallel(n_jobs=-1)]: Done 12210 tasks      | elapsed:  3.2min\n",
      "[Parallel(n_jobs=-1)]: Done 14110 tasks      | elapsed:  4.1min\n",
      "[Parallel(n_jobs=-1)]: Done 16210 tasks      | elapsed:  5.1min\n",
      "[Parallel(n_jobs=-1)]: Done 18202 tasks      | elapsed:  6.2min\n",
      "[Parallel(n_jobs=-1)]: Done 19452 tasks      | elapsed:  7.0min\n",
      "[Parallel(n_jobs=-1)]: Done 20802 tasks      | elapsed:  7.6min\n",
      "[Parallel(n_jobs=-1)]: Done 22252 tasks      | elapsed:  8.6min\n",
      "[Parallel(n_jobs=-1)]: Done 23802 tasks      | elapsed:  9.8min\n",
      "[Parallel(n_jobs=-1)]: Done 25452 tasks      | elapsed: 10.7min\n",
      "[Parallel(n_jobs=-1)]: Done 27202 tasks      | elapsed: 12.0min\n",
      "[Parallel(n_jobs=-1)]: Done 29052 tasks      | elapsed: 13.2min\n",
      "[Parallel(n_jobs=-1)]: Done 31002 tasks      | elapsed: 15.0min\n",
      "[Parallel(n_jobs=-1)]: Done 33052 tasks      | elapsed: 16.4min\n",
      "[Parallel(n_jobs=-1)]: Done 35202 tasks      | elapsed: 18.4min\n",
      "[Parallel(n_jobs=-1)]: Done 37452 tasks      | elapsed: 20.0min\n",
      "[Parallel(n_jobs=-1)]: Done 39802 tasks      | elapsed: 22.3min\n",
      "[Parallel(n_jobs=-1)]: Done 40000 out of 40000 | elapsed: 22.5min finished\n"
     ]
    },
    {
     "name": "stdout",
     "output_type": "stream",
     "text": [
      "Wall time: 22min 30s\n",
      "{'max_depth': 5, 'max_leaf_nodes': 10, 'min_samples_leaf': 6, 'min_samples_split': 16} -153.84379710965814\n",
      "Fitting 1 folds for each of 40000 candidates, totalling 40000 fits\n"
     ]
    },
    {
     "name": "stderr",
     "output_type": "stream",
     "text": [
      "[Parallel(n_jobs=-1)]: Using backend LokyBackend with 12 concurrent workers.\n",
      "[Parallel(n_jobs=-1)]: Done  28 tasks      | elapsed:    0.4s\n",
      "[Parallel(n_jobs=-1)]: Done 328 tasks      | elapsed:    3.5s\n",
      "[Parallel(n_jobs=-1)]: Done 828 tasks      | elapsed:    8.6s\n",
      "[Parallel(n_jobs=-1)]: Done 1528 tasks      | elapsed:   15.6s\n",
      "[Parallel(n_jobs=-1)]: Done 2428 tasks      | elapsed:   24.4s\n",
      "[Parallel(n_jobs=-1)]: Done 3528 tasks      | elapsed:   35.2s\n",
      "[Parallel(n_jobs=-1)]: Done 4828 tasks      | elapsed:   53.2s\n",
      "[Parallel(n_jobs=-1)]: Done 6328 tasks      | elapsed:  1.3min\n",
      "[Parallel(n_jobs=-1)]: Done 8028 tasks      | elapsed:  1.8min\n",
      "[Parallel(n_jobs=-1)]: Done 9928 tasks      | elapsed:  2.5min\n",
      "[Parallel(n_jobs=-1)]: Done 12028 tasks      | elapsed:  3.3min\n",
      "[Parallel(n_jobs=-1)]: Done 14328 tasks      | elapsed:  4.4min\n",
      "[Parallel(n_jobs=-1)]: Done 16828 tasks      | elapsed:  5.6min\n",
      "[Parallel(n_jobs=-1)]: Done 18703 tasks      | elapsed:  6.8min\n",
      "[Parallel(n_jobs=-1)]: Done 20153 tasks      | elapsed:  7.7min\n",
      "[Parallel(n_jobs=-1)]: Done 21703 tasks      | elapsed:  8.6min\n",
      "[Parallel(n_jobs=-1)]: Done 23353 tasks      | elapsed:  9.9min\n",
      "[Parallel(n_jobs=-1)]: Done 25103 tasks      | elapsed: 10.9min\n",
      "[Parallel(n_jobs=-1)]: Done 26953 tasks      | elapsed: 12.4min\n",
      "[Parallel(n_jobs=-1)]: Done 28903 tasks      | elapsed: 13.7min\n",
      "[Parallel(n_jobs=-1)]: Done 30953 tasks      | elapsed: 15.5min\n",
      "[Parallel(n_jobs=-1)]: Done 33103 tasks      | elapsed: 17.1min\n",
      "[Parallel(n_jobs=-1)]: Done 35353 tasks      | elapsed: 19.2min\n",
      "[Parallel(n_jobs=-1)]: Done 37703 tasks      | elapsed: 20.9min\n",
      "[Parallel(n_jobs=-1)]: Done 40000 out of 40000 | elapsed: 23.3min finished\n"
     ]
    },
    {
     "name": "stdout",
     "output_type": "stream",
     "text": [
      "Wall time: 23min 20s\n",
      "{'max_depth': 5, 'max_leaf_nodes': 14, 'min_samples_leaf': 6, 'min_samples_split': 2} -177.20394494435644\n",
      "Fitting 1 folds for each of 40000 candidates, totalling 40000 fits\n"
     ]
    },
    {
     "name": "stderr",
     "output_type": "stream",
     "text": [
      "[Parallel(n_jobs=-1)]: Using backend LokyBackend with 12 concurrent workers.\n",
      "[Parallel(n_jobs=-1)]: Done  32 tasks      | elapsed:    0.6s\n",
      "[Parallel(n_jobs=-1)]: Done 632 tasks      | elapsed:    7.1s\n",
      "[Parallel(n_jobs=-1)]: Done 1632 tasks      | elapsed:   17.8s\n",
      "[Parallel(n_jobs=-1)]: Done 3032 tasks      | elapsed:   32.8s\n",
      "[Parallel(n_jobs=-1)]: Done 4510 tasks      | elapsed:   53.2s\n",
      "[Parallel(n_jobs=-1)]: Done 5610 tasks      | elapsed:  1.3min\n",
      "[Parallel(n_jobs=-1)]: Done 6910 tasks      | elapsed:  1.7min\n",
      "[Parallel(n_jobs=-1)]: Done 8410 tasks      | elapsed:  2.1min\n",
      "[Parallel(n_jobs=-1)]: Done 10110 tasks      | elapsed:  2.9min\n",
      "[Parallel(n_jobs=-1)]: Done 11312 tasks      | elapsed:  3.5min\n",
      "[Parallel(n_jobs=-1)]: Done 12362 tasks      | elapsed:  4.0min\n",
      "[Parallel(n_jobs=-1)]: Done 13512 tasks      | elapsed:  4.6min\n",
      "[Parallel(n_jobs=-1)]: Done 14762 tasks      | elapsed:  5.3min\n",
      "[Parallel(n_jobs=-1)]: Done 16112 tasks      | elapsed:  5.9min\n",
      "[Parallel(n_jobs=-1)]: Done 17562 tasks      | elapsed:  6.8min\n",
      "[Parallel(n_jobs=-1)]: Done 19112 tasks      | elapsed:  7.9min\n",
      "[Parallel(n_jobs=-1)]: Done 20762 tasks      | elapsed:  8.9min\n",
      "[Parallel(n_jobs=-1)]: Done 22512 tasks      | elapsed: 10.1min\n",
      "[Parallel(n_jobs=-1)]: Done 24362 tasks      | elapsed: 11.3min\n",
      "[Parallel(n_jobs=-1)]: Done 26312 tasks      | elapsed: 12.7min\n",
      "[Parallel(n_jobs=-1)]: Done 28362 tasks      | elapsed: 14.4min\n",
      "[Parallel(n_jobs=-1)]: Done 30512 tasks      | elapsed: 16.1min\n",
      "[Parallel(n_jobs=-1)]: Done 32762 tasks      | elapsed: 17.8min\n",
      "[Parallel(n_jobs=-1)]: Done 35112 tasks      | elapsed: 19.8min\n",
      "[Parallel(n_jobs=-1)]: Done 37562 tasks      | elapsed: 21.5min\n",
      "[Parallel(n_jobs=-1)]: Done 40000 out of 40000 | elapsed: 23.7min finished\n"
     ]
    },
    {
     "name": "stdout",
     "output_type": "stream",
     "text": [
      "Wall time: 23min 40s\n",
      "{'max_depth': 4, 'max_leaf_nodes': 6, 'min_samples_leaf': 11, 'min_samples_split': 34} -192.72587895502693\n",
      "Fitting 1 folds for each of 40000 candidates, totalling 40000 fits\n"
     ]
    },
    {
     "name": "stderr",
     "output_type": "stream",
     "text": [
      "[Parallel(n_jobs=-1)]: Using backend LokyBackend with 12 concurrent workers.\n",
      "[Parallel(n_jobs=-1)]: Done  28 tasks      | elapsed:    0.4s\n",
      "[Parallel(n_jobs=-1)]: Done 328 tasks      | elapsed:    2.9s\n",
      "[Parallel(n_jobs=-1)]: Done 828 tasks      | elapsed:    7.2s\n",
      "[Parallel(n_jobs=-1)]: Done 1528 tasks      | elapsed:   13.4s\n",
      "[Parallel(n_jobs=-1)]: Done 2428 tasks      | elapsed:   21.2s\n",
      "[Parallel(n_jobs=-1)]: Done 3528 tasks      | elapsed:   30.7s\n",
      "[Parallel(n_jobs=-1)]: Done 4828 tasks      | elapsed:   47.0s\n",
      "[Parallel(n_jobs=-1)]: Done 6328 tasks      | elapsed:  1.2min\n",
      "[Parallel(n_jobs=-1)]: Done 8028 tasks      | elapsed:  1.6min\n",
      "[Parallel(n_jobs=-1)]: Done 9928 tasks      | elapsed:  2.2min\n",
      "[Parallel(n_jobs=-1)]: Done 12028 tasks      | elapsed:  3.0min\n",
      "[Parallel(n_jobs=-1)]: Done 14328 tasks      | elapsed:  4.0min\n",
      "[Parallel(n_jobs=-1)]: Done 16828 tasks      | elapsed:  5.1min\n",
      "[Parallel(n_jobs=-1)]: Done 18317 tasks      | elapsed:  6.0min\n",
      "[Parallel(n_jobs=-1)]: Done 19767 tasks      | elapsed:  6.9min\n",
      "[Parallel(n_jobs=-1)]: Done 21317 tasks      | elapsed:  7.7min\n",
      "[Parallel(n_jobs=-1)]: Done 22967 tasks      | elapsed:  8.8min\n",
      "[Parallel(n_jobs=-1)]: Done 24717 tasks      | elapsed:  9.8min\n",
      "[Parallel(n_jobs=-1)]: Done 26567 tasks      | elapsed: 11.1min\n",
      "[Parallel(n_jobs=-1)]: Done 28517 tasks      | elapsed: 12.4min\n",
      "[Parallel(n_jobs=-1)]: Done 30567 tasks      | elapsed: 13.9min\n",
      "[Parallel(n_jobs=-1)]: Done 32717 tasks      | elapsed: 15.6min\n",
      "[Parallel(n_jobs=-1)]: Done 34967 tasks      | elapsed: 17.8min\n",
      "[Parallel(n_jobs=-1)]: Done 37317 tasks      | elapsed: 19.8min\n",
      "[Parallel(n_jobs=-1)]: Done 39767 tasks      | elapsed: 22.3min\n",
      "[Parallel(n_jobs=-1)]: Done 40000 out of 40000 | elapsed: 22.6min finished\n"
     ]
    },
    {
     "name": "stdout",
     "output_type": "stream",
     "text": [
      "Wall time: 22min 35s\n",
      "{'max_depth': 4, 'max_leaf_nodes': 6, 'min_samples_leaf': 1, 'min_samples_split': 32} -199.83383552869208\n",
      "Fitting 1 folds for each of 40000 candidates, totalling 40000 fits\n"
     ]
    },
    {
     "name": "stderr",
     "output_type": "stream",
     "text": [
      "[Parallel(n_jobs=-1)]: Using backend LokyBackend with 12 concurrent workers.\n",
      "[Parallel(n_jobs=-1)]: Done  32 tasks      | elapsed:    0.6s\n",
      "[Parallel(n_jobs=-1)]: Done 632 tasks      | elapsed:    6.8s\n",
      "[Parallel(n_jobs=-1)]: Done 1632 tasks      | elapsed:   17.3s\n",
      "[Parallel(n_jobs=-1)]: Done 3032 tasks      | elapsed:   32.3s\n",
      "[Parallel(n_jobs=-1)]: Done 4832 tasks      | elapsed:   56.3s\n",
      "[Parallel(n_jobs=-1)]: Done 5968 tasks      | elapsed:  1.3min\n",
      "[Parallel(n_jobs=-1)]: Done 7268 tasks      | elapsed:  1.7min\n",
      "[Parallel(n_jobs=-1)]: Done 8768 tasks      | elapsed:  2.2min\n",
      "[Parallel(n_jobs=-1)]: Done 10468 tasks      | elapsed:  3.0min\n",
      "[Parallel(n_jobs=-1)]: Done 12368 tasks      | elapsed:  3.9min\n",
      "[Parallel(n_jobs=-1)]: Done 13989 tasks      | elapsed:  4.8min\n",
      "[Parallel(n_jobs=-1)]: Done 15139 tasks      | elapsed:  5.5min\n",
      "[Parallel(n_jobs=-1)]: Done 16389 tasks      | elapsed:  6.1min\n",
      "[Parallel(n_jobs=-1)]: Done 17739 tasks      | elapsed:  6.8min\n",
      "[Parallel(n_jobs=-1)]: Done 19189 tasks      | elapsed:  7.7min\n",
      "[Parallel(n_jobs=-1)]: Done 20739 tasks      | elapsed:  8.7min\n",
      "[Parallel(n_jobs=-1)]: Done 22389 tasks      | elapsed:  9.9min\n",
      "[Parallel(n_jobs=-1)]: Done 24139 tasks      | elapsed: 11.2min\n",
      "[Parallel(n_jobs=-1)]: Done 25989 tasks      | elapsed: 12.3min\n",
      "[Parallel(n_jobs=-1)]: Done 27939 tasks      | elapsed: 14.0min\n",
      "[Parallel(n_jobs=-1)]: Done 29989 tasks      | elapsed: 15.2min\n",
      "[Parallel(n_jobs=-1)]: Done 32139 tasks      | elapsed: 16.9min\n",
      "[Parallel(n_jobs=-1)]: Done 34389 tasks      | elapsed: 18.4min\n",
      "[Parallel(n_jobs=-1)]: Done 36739 tasks      | elapsed: 20.3min\n",
      "[Parallel(n_jobs=-1)]: Done 39189 tasks      | elapsed: 22.4min\n",
      "[Parallel(n_jobs=-1)]: Done 40000 out of 40000 | elapsed: 23.2min finished\n"
     ]
    },
    {
     "name": "stdout",
     "output_type": "stream",
     "text": [
      "Wall time: 23min 14s\n",
      "{'max_depth': 3, 'max_leaf_nodes': 4, 'min_samples_leaf': 1, 'min_samples_split': 36} -215.28527354262673\n",
      "Fitting 1 folds for each of 40000 candidates, totalling 40000 fits\n"
     ]
    },
    {
     "name": "stderr",
     "output_type": "stream",
     "text": [
      "[Parallel(n_jobs=-1)]: Using backend LokyBackend with 12 concurrent workers.\n",
      "[Parallel(n_jobs=-1)]: Done  32 tasks      | elapsed:    0.5s\n",
      "[Parallel(n_jobs=-1)]: Done 632 tasks      | elapsed:    5.9s\n",
      "[Parallel(n_jobs=-1)]: Done 1632 tasks      | elapsed:   15.1s\n",
      "[Parallel(n_jobs=-1)]: Done 3032 tasks      | elapsed:   29.1s\n",
      "[Parallel(n_jobs=-1)]: Done 4832 tasks      | elapsed:   48.7s\n",
      "[Parallel(n_jobs=-1)]: Done 7032 tasks      | elapsed:  1.4min\n",
      "[Parallel(n_jobs=-1)]: Done 9080 tasks      | elapsed:  2.0min\n",
      "[Parallel(n_jobs=-1)]: Done 10580 tasks      | elapsed:  2.5min\n",
      "[Parallel(n_jobs=-1)]: Done 12280 tasks      | elapsed:  3.1min\n",
      "[Parallel(n_jobs=-1)]: Done 14180 tasks      | elapsed:  3.9min\n",
      "[Parallel(n_jobs=-1)]: Done 16280 tasks      | elapsed:  4.8min\n",
      "[Parallel(n_jobs=-1)]: Done 18580 tasks      | elapsed:  6.1min\n",
      "[Parallel(n_jobs=-1)]: Done 21080 tasks      | elapsed:  7.4min\n",
      "[Parallel(n_jobs=-1)]: Done 23028 tasks      | elapsed:  8.6min\n",
      "[Parallel(n_jobs=-1)]: Done 24478 tasks      | elapsed:  9.4min\n",
      "[Parallel(n_jobs=-1)]: Done 26028 tasks      | elapsed: 10.4min\n",
      "[Parallel(n_jobs=-1)]: Done 27678 tasks      | elapsed: 11.9min\n",
      "[Parallel(n_jobs=-1)]: Done 29428 tasks      | elapsed: 13.0min\n",
      "[Parallel(n_jobs=-1)]: Done 31278 tasks      | elapsed: 14.6min\n",
      "[Parallel(n_jobs=-1)]: Done 33228 tasks      | elapsed: 15.9min\n",
      "[Parallel(n_jobs=-1)]: Done 35278 tasks      | elapsed: 17.8min\n",
      "[Parallel(n_jobs=-1)]: Done 37428 tasks      | elapsed: 19.2min\n",
      "[Parallel(n_jobs=-1)]: Done 39678 tasks      | elapsed: 21.4min\n",
      "[Parallel(n_jobs=-1)]: Done 40000 out of 40000 | elapsed: 21.7min finished\n"
     ]
    },
    {
     "name": "stdout",
     "output_type": "stream",
     "text": [
      "Wall time: 21min 41s\n",
      "{'max_depth': 3, 'max_leaf_nodes': 8, 'min_samples_leaf': 46, 'min_samples_split': 2} -224.0534559724497\n",
      "Fitting 1 folds for each of 40000 candidates, totalling 40000 fits\n"
     ]
    },
    {
     "name": "stderr",
     "output_type": "stream",
     "text": [
      "[Parallel(n_jobs=-1)]: Using backend LokyBackend with 12 concurrent workers.\n",
      "[Parallel(n_jobs=-1)]: Done  32 tasks      | elapsed:    0.5s\n",
      "[Parallel(n_jobs=-1)]: Done 632 tasks      | elapsed:    5.9s\n",
      "[Parallel(n_jobs=-1)]: Done 1632 tasks      | elapsed:   15.2s\n",
      "[Parallel(n_jobs=-1)]: Done 3032 tasks      | elapsed:   28.6s\n",
      "[Parallel(n_jobs=-1)]: Done 4832 tasks      | elapsed:   50.6s\n",
      "[Parallel(n_jobs=-1)]: Done 7032 tasks      | elapsed:  1.4min\n",
      "[Parallel(n_jobs=-1)]: Done 8986 tasks      | elapsed:  2.0min\n",
      "[Parallel(n_jobs=-1)]: Done 10486 tasks      | elapsed:  2.6min\n",
      "[Parallel(n_jobs=-1)]: Done 12186 tasks      | elapsed:  3.3min\n",
      "[Parallel(n_jobs=-1)]: Done 14086 tasks      | elapsed:  4.2min\n",
      "[Parallel(n_jobs=-1)]: Done 16186 tasks      | elapsed:  5.2min\n",
      "[Parallel(n_jobs=-1)]: Done 17598 tasks      | elapsed:  6.0min\n",
      "[Parallel(n_jobs=-1)]: Done 18848 tasks      | elapsed:  6.8min\n",
      "[Parallel(n_jobs=-1)]: Done 20198 tasks      | elapsed:  7.6min\n",
      "[Parallel(n_jobs=-1)]: Done 21648 tasks      | elapsed:  8.5min\n",
      "[Parallel(n_jobs=-1)]: Done 23198 tasks      | elapsed:  9.6min\n",
      "[Parallel(n_jobs=-1)]: Done 24848 tasks      | elapsed: 10.5min\n",
      "[Parallel(n_jobs=-1)]: Done 26598 tasks      | elapsed: 11.8min\n",
      "[Parallel(n_jobs=-1)]: Done 28448 tasks      | elapsed: 13.1min\n",
      "[Parallel(n_jobs=-1)]: Done 30398 tasks      | elapsed: 14.5min\n",
      "[Parallel(n_jobs=-1)]: Done 32448 tasks      | elapsed: 16.1min\n",
      "[Parallel(n_jobs=-1)]: Done 34598 tasks      | elapsed: 17.6min\n",
      "[Parallel(n_jobs=-1)]: Done 36848 tasks      | elapsed: 19.1min\n",
      "[Parallel(n_jobs=-1)]: Done 39198 tasks      | elapsed: 21.1min\n",
      "[Parallel(n_jobs=-1)]: Done 40000 out of 40000 | elapsed: 21.9min finished\n"
     ]
    },
    {
     "name": "stdout",
     "output_type": "stream",
     "text": [
      "Wall time: 21min 55s\n",
      "{'max_depth': 2, 'max_leaf_nodes': 4, 'min_samples_leaf': 46, 'min_samples_split': 2} -233.67178740900977\n",
      "Fitting 1 folds for each of 40000 candidates, totalling 40000 fits\n"
     ]
    },
    {
     "name": "stderr",
     "output_type": "stream",
     "text": [
      "[Parallel(n_jobs=-1)]: Using backend LokyBackend with 12 concurrent workers.\n",
      "[Parallel(n_jobs=-1)]: Done  32 tasks      | elapsed:    0.5s\n",
      "[Parallel(n_jobs=-1)]: Done 632 tasks      | elapsed:    6.0s\n",
      "[Parallel(n_jobs=-1)]: Done 1632 tasks      | elapsed:   15.3s\n",
      "[Parallel(n_jobs=-1)]: Done 3032 tasks      | elapsed:   28.0s\n",
      "[Parallel(n_jobs=-1)]: Done 4832 tasks      | elapsed:   49.4s\n",
      "[Parallel(n_jobs=-1)]: Done 7032 tasks      | elapsed:  1.4min\n",
      "[Parallel(n_jobs=-1)]: Done 9010 tasks      | elapsed:  2.0min\n",
      "[Parallel(n_jobs=-1)]: Done 10510 tasks      | elapsed:  2.6min\n",
      "[Parallel(n_jobs=-1)]: Done 12210 tasks      | elapsed:  3.2min\n",
      "[Parallel(n_jobs=-1)]: Done 14110 tasks      | elapsed:  4.1min\n",
      "[Parallel(n_jobs=-1)]: Done 16210 tasks      | elapsed:  5.1min\n",
      "[Parallel(n_jobs=-1)]: Done 18094 tasks      | elapsed:  6.2min\n",
      "[Parallel(n_jobs=-1)]: Done 19344 tasks      | elapsed:  6.9min\n",
      "[Parallel(n_jobs=-1)]: Done 20694 tasks      | elapsed:  7.6min\n",
      "[Parallel(n_jobs=-1)]: Done 22144 tasks      | elapsed:  8.6min\n",
      "[Parallel(n_jobs=-1)]: Done 23694 tasks      | elapsed:  9.8min\n",
      "[Parallel(n_jobs=-1)]: Done 25344 tasks      | elapsed: 10.7min\n",
      "[Parallel(n_jobs=-1)]: Done 27094 tasks      | elapsed: 12.1min\n",
      "[Parallel(n_jobs=-1)]: Done 28944 tasks      | elapsed: 13.3min\n",
      "[Parallel(n_jobs=-1)]: Done 30894 tasks      | elapsed: 14.9min\n",
      "[Parallel(n_jobs=-1)]: Done 32944 tasks      | elapsed: 16.3min\n",
      "[Parallel(n_jobs=-1)]: Done 35094 tasks      | elapsed: 18.1min\n",
      "[Parallel(n_jobs=-1)]: Done 37344 tasks      | elapsed: 19.7min\n",
      "[Parallel(n_jobs=-1)]: Done 39694 tasks      | elapsed: 22.1min\n",
      "[Parallel(n_jobs=-1)]: Done 40000 out of 40000 | elapsed: 22.5min finished\n"
     ]
    },
    {
     "name": "stdout",
     "output_type": "stream",
     "text": [
      "Wall time: 22min 30s\n",
      "{'max_depth': 3, 'max_leaf_nodes': 4, 'min_samples_leaf': 11, 'min_samples_split': 38} -237.3601081906223\n",
      "Fitting 1 folds for each of 40000 candidates, totalling 40000 fits\n"
     ]
    },
    {
     "name": "stderr",
     "output_type": "stream",
     "text": [
      "[Parallel(n_jobs=-1)]: Using backend LokyBackend with 12 concurrent workers.\n",
      "[Parallel(n_jobs=-1)]: Done  28 tasks      | elapsed:    0.4s\n",
      "[Parallel(n_jobs=-1)]: Done 328 tasks      | elapsed:    3.4s\n",
      "[Parallel(n_jobs=-1)]: Done 828 tasks      | elapsed:    8.2s\n",
      "[Parallel(n_jobs=-1)]: Done 1528 tasks      | elapsed:   14.8s\n",
      "[Parallel(n_jobs=-1)]: Done 2428 tasks      | elapsed:   23.4s\n",
      "[Parallel(n_jobs=-1)]: Done 3528 tasks      | elapsed:   34.3s\n",
      "[Parallel(n_jobs=-1)]: Done 4828 tasks      | elapsed:   53.9s\n",
      "[Parallel(n_jobs=-1)]: Done 6328 tasks      | elapsed:  1.3min\n",
      "[Parallel(n_jobs=-1)]: Done 8028 tasks      | elapsed:  1.8min\n",
      "[Parallel(n_jobs=-1)]: Done 9928 tasks      | elapsed:  2.4min\n",
      "[Parallel(n_jobs=-1)]: Done 12028 tasks      | elapsed:  3.2min\n",
      "[Parallel(n_jobs=-1)]: Done 14328 tasks      | elapsed:  4.2min\n",
      "[Parallel(n_jobs=-1)]: Done 16828 tasks      | elapsed:  5.3min\n",
      "[Parallel(n_jobs=-1)]: Done 19528 tasks      | elapsed:  6.9min\n",
      "[Parallel(n_jobs=-1)]: Done 22156 tasks      | elapsed:  8.3min\n",
      "[Parallel(n_jobs=-1)]: Done 23706 tasks      | elapsed:  9.3min\n",
      "[Parallel(n_jobs=-1)]: Done 25356 tasks      | elapsed: 10.2min\n",
      "[Parallel(n_jobs=-1)]: Done 27106 tasks      | elapsed: 11.4min\n",
      "[Parallel(n_jobs=-1)]: Done 28956 tasks      | elapsed: 12.5min\n",
      "[Parallel(n_jobs=-1)]: Done 30906 tasks      | elapsed: 13.9min\n",
      "[Parallel(n_jobs=-1)]: Done 32956 tasks      | elapsed: 15.2min\n",
      "[Parallel(n_jobs=-1)]: Done 35106 tasks      | elapsed: 16.9min\n",
      "[Parallel(n_jobs=-1)]: Done 37356 tasks      | elapsed: 18.4min\n",
      "[Parallel(n_jobs=-1)]: Done 39706 tasks      | elapsed: 20.5min\n",
      "[Parallel(n_jobs=-1)]: Done 40000 out of 40000 | elapsed: 20.8min finished\n"
     ]
    },
    {
     "name": "stdout",
     "output_type": "stream",
     "text": [
      "Wall time: 20min 47s\n",
      "{'max_depth': 2, 'max_leaf_nodes': 4, 'min_samples_leaf': 1, 'min_samples_split': 8} -243.7606744990642\n"
     ]
    }
   ],
   "source": [
    "param_grid = {'max_depth': range(1,11),\n",
    "              'min_samples_leaf': range(1,51,5), \n",
    "              'max_leaf_nodes':range(2,41,2),\n",
    "              'min_samples_split':range(2,41,2),\n",
    "              }\n",
    "for leadtime in range(1,11):\n",
    "    est = GradientBoostingRegressor(learning_rate=0.1, random_state=10, n_estimators=100)\n",
    "    \n",
    "    X,y = MyPrepaData.Preparation(data=data,Qlag=[1,4],Rlag=range(1,7),reanalysis=reanalysis,isreanalysis=True,leadtime=leadtime)\n",
    "    X_train, X_test, y_train, y_test = train_test_split(X,y,test_size=730,shuffle=False)\n",
    "    length = X_train.shape[0]\n",
    "    tscv = [([_ for _ in range(length-731)],[_ for _ in range(length-731,length)]) for i in range(1)]\n",
    "    %time gs_cv = GridSearchCV(est, param_grid, scoring=make_scorer(mae,greater_is_better=False),\\\n",
    "                               cv = tscv ,n_jobs=-1,verbose=1).fit(X_train.values,y_train.values)\n",
    "    with open('gbrt_para%d.pickle'%leadtime, 'wb') as f:\n",
    "        pickle.dump(gs_cv,f)\n",
    "    print(gs_cv.best_params_,gs_cv.best_score_)"
   ]
  },
  {
   "cell_type": "code",
   "execution_count": 23,
   "metadata": {},
   "outputs": [
    {
     "name": "stdout",
     "output_type": "stream",
     "text": [
      "125.03499043174489\n",
      "153.6544116802135\n",
      "176.00736790599356\n",
      "192.43293110861043\n",
      "199.14175120968176\n",
      "216.68489037431712\n",
      "224.3698242892771\n",
      "233.79444037541683\n",
      "238.0307035125584\n",
      "243.56934104822867\n"
     ]
    }
   ],
   "source": [
    "optpara = []\n",
    "for leadtime in range(1,11):\n",
    "    bestpara = []\n",
    "    bestscore = []\n",
    "    with open('gbrt_para%d.pickle'%(leadtime), 'rb') as f:\n",
    "        result = pickle.load(f)\n",
    "        bestpara.append(result.best_params_)\n",
    "        bestscore.append(result.best_score_)\n",
    "#     print(-max(bestscore))\n",
    "    optpara.append(bestpara[bestscore.index(max(bestscore))])\n",
    "with open('gbrt_allpara.pickle', 'wb') as f:\n",
    "            pickle.dump(optpara,f)"
   ]
  },
  {
   "cell_type": "code",
   "execution_count": 265,
   "metadata": {
    "scrolled": true
   },
   "outputs": [
    {
     "name": "stdout",
     "output_type": "stream",
     "text": [
      "Fitting 1 folds for each of 40 candidates, totalling 40 fits\n"
     ]
    },
    {
     "name": "stderr",
     "output_type": "stream",
     "text": [
      "[Parallel(n_jobs=12)]: Using backend LokyBackend with 12 concurrent workers.\n",
      "[Parallel(n_jobs=12)]: Done  40 out of  40 | elapsed:   19.3s finished\n"
     ]
    },
    {
     "name": "stdout",
     "output_type": "stream",
     "text": [
      "Wall time: 26.2 s\n",
      "{'learning_rate': 0.01, 'n_estimators': 3800} -124.93798489156994\n",
      "Fitting 1 folds for each of 40 candidates, totalling 40 fits\n"
     ]
    },
    {
     "name": "stderr",
     "output_type": "stream",
     "text": [
      "[Parallel(n_jobs=12)]: Using backend LokyBackend with 12 concurrent workers.\n",
      "[Parallel(n_jobs=12)]: Done  40 out of  40 | elapsed:   26.7s finished\n"
     ]
    },
    {
     "name": "stdout",
     "output_type": "stream",
     "text": [
      "Wall time: 32.8 s\n",
      "{'learning_rate': 0.01, 'n_estimators': 2700} -153.9928194072676\n",
      "Fitting 1 folds for each of 40 candidates, totalling 40 fits\n"
     ]
    },
    {
     "name": "stderr",
     "output_type": "stream",
     "text": [
      "[Parallel(n_jobs=12)]: Using backend LokyBackend with 12 concurrent workers.\n",
      "[Parallel(n_jobs=12)]: Done  40 out of  40 | elapsed:   33.2s finished\n"
     ]
    },
    {
     "name": "stdout",
     "output_type": "stream",
     "text": [
      "Wall time: 36.8 s\n",
      "{'learning_rate': 0.01, 'n_estimators': 1300} -179.28208422067976\n",
      "Fitting 1 folds for each of 40 candidates, totalling 40 fits\n"
     ]
    },
    {
     "name": "stderr",
     "output_type": "stream",
     "text": [
      "[Parallel(n_jobs=12)]: Using backend LokyBackend with 12 concurrent workers.\n",
      "[Parallel(n_jobs=12)]: Done  40 out of  40 | elapsed:   26.1s finished\n"
     ]
    },
    {
     "name": "stdout",
     "output_type": "stream",
     "text": [
      "Wall time: 28 s\n",
      "{'learning_rate': 0.01, 'n_estimators': 900} -195.93959587276495\n",
      "Fitting 1 folds for each of 40 candidates, totalling 40 fits\n"
     ]
    },
    {
     "name": "stderr",
     "output_type": "stream",
     "text": [
      "[Parallel(n_jobs=12)]: Using backend LokyBackend with 12 concurrent workers.\n",
      "[Parallel(n_jobs=12)]: Done  40 out of  40 | elapsed:   36.7s finished\n"
     ]
    },
    {
     "name": "stdout",
     "output_type": "stream",
     "text": [
      "Wall time: 39.7 s\n",
      "{'learning_rate': 0.01, 'n_estimators': 1000} -203.10591384437276\n",
      "Fitting 1 folds for each of 40 candidates, totalling 40 fits\n"
     ]
    },
    {
     "name": "stderr",
     "output_type": "stream",
     "text": [
      "[Parallel(n_jobs=12)]: Using backend LokyBackend with 12 concurrent workers.\n",
      "[Parallel(n_jobs=12)]: Done  40 out of  40 | elapsed:   18.7s finished\n"
     ]
    },
    {
     "name": "stdout",
     "output_type": "stream",
     "text": [
      "Wall time: 19.9 s\n",
      "{'learning_rate': 0.01, 'n_estimators': 700} -216.72023264854346\n",
      "Fitting 1 folds for each of 40 candidates, totalling 40 fits\n"
     ]
    },
    {
     "name": "stderr",
     "output_type": "stream",
     "text": [
      "[Parallel(n_jobs=12)]: Using backend LokyBackend with 12 concurrent workers.\n",
      "[Parallel(n_jobs=12)]: Done  17 out of  40 | elapsed:    4.1s remaining:    5.6s\n",
      "[Parallel(n_jobs=12)]: Done  40 out of  40 | elapsed:   14.2s finished\n"
     ]
    },
    {
     "name": "stdout",
     "output_type": "stream",
     "text": [
      "Wall time: 15.7 s\n",
      "{'learning_rate': 0.01, 'n_estimators': 1400} -225.83967245258893\n",
      "Fitting 1 folds for each of 40 candidates, totalling 40 fits\n"
     ]
    },
    {
     "name": "stderr",
     "output_type": "stream",
     "text": [
      "[Parallel(n_jobs=12)]: Using backend LokyBackend with 12 concurrent workers.\n",
      "[Parallel(n_jobs=12)]: Done  17 out of  40 | elapsed:    3.9s remaining:    5.3s\n",
      "[Parallel(n_jobs=12)]: Done  40 out of  40 | elapsed:   13.9s finished\n"
     ]
    },
    {
     "name": "stdout",
     "output_type": "stream",
     "text": [
      "Wall time: 16 s\n",
      "{'learning_rate': 0.01, 'n_estimators': 2000} -233.95618476312077\n",
      "Fitting 1 folds for each of 40 candidates, totalling 40 fits\n"
     ]
    },
    {
     "name": "stderr",
     "output_type": "stream",
     "text": [
      "[Parallel(n_jobs=12)]: Using backend LokyBackend with 12 concurrent workers.\n",
      "[Parallel(n_jobs=12)]: Done  40 out of  40 | elapsed:   20.7s finished\n"
     ]
    },
    {
     "name": "stdout",
     "output_type": "stream",
     "text": [
      "Wall time: 22.7 s\n",
      "{'learning_rate': 0.01, 'n_estimators': 1300} -239.5760740285998\n",
      "Fitting 1 folds for each of 40 candidates, totalling 40 fits\n"
     ]
    },
    {
     "name": "stderr",
     "output_type": "stream",
     "text": [
      "[Parallel(n_jobs=12)]: Using backend LokyBackend with 12 concurrent workers.\n",
      "[Parallel(n_jobs=12)]: Done  17 out of  40 | elapsed:    4.3s remaining:    5.9s\n",
      "[Parallel(n_jobs=12)]: Done  40 out of  40 | elapsed:   16.8s finished\n"
     ]
    },
    {
     "name": "stdout",
     "output_type": "stream",
     "text": [
      "Wall time: 18.6 s\n",
      "{'learning_rate': 0.01, 'n_estimators': 1200} -243.97890594655084\n"
     ]
    }
   ],
   "source": [
    "with open('gbrt_allpara.pickle', 'rb') as f:\n",
    "    optpara = pickle.load(f)\n",
    "min_samples_split= [_['min_samples_split'] for _ in optpara]\n",
    "min_samples_leaf = [_['min_samples_leaf'] for _ in optpara]\n",
    "max_depth = [_['max_depth'] for _ in optpara]\n",
    "max_leaf_nodes = [_['max_leaf_nodes'] for _ in optpara]\n",
    "\n",
    "for leadtime in range(1,11):\n",
    "    param_grid = {'n_estimators': range(100,4001,100),\n",
    "          'learning_rate': [0.01], \n",
    "          }\n",
    "    est = GradientBoostingRegressor(min_samples_split= min_samples_split[leadtime-1],\n",
    "                                          max_depth = max_depth[leadtime-1],max_leaf_nodes=max_leaf_nodes[leadtime-1],\n",
    "                                          min_samples_leaf=min_samples_leaf[leadtime-1],random_state=10)\n",
    "    X,y = Preparation(data=data,Qlag=[1,4],Rlag=range(1,7),reanalysis=reanalysis,isreanalysis=True,leadtime=leadtime)\n",
    "    X_train, X_test, y_train, y_test = train_test_split(X,y,test_size=730,shuffle=False)\n",
    "    length = X_train.shape[0]\n",
    "    tscv = [([_ for _ in range(length-731)],[_ for _ in range(length-731,length)]) for i in range(1)]\n",
    "    %time gs_cv = GridSearchCV(est, param_grid, scoring=make_scorer(mae,greater_is_better=False),\\\n",
    "                               cv = tscv ,n_jobs=12,verbose=1).fit(X_train.values,y_train.values)\n",
    "    with open('gbrt_para_learn_est%d.pickle'%(leadtime), 'wb') as f:\n",
    "        pickle.dump(gs_cv,f)\n",
    "    print(gs_cv.best_params_,gs_cv.best_score_)"
   ]
  },
  {
   "cell_type": "code",
   "execution_count": 266,
   "metadata": {},
   "outputs": [],
   "source": [
    "optpara = []\n",
    "for leadtime in range(1,11):\n",
    "    with open('gbrt_para_learn_est%d.pickle'%(leadtime), 'rb') as f:\n",
    "        result = pickle.load(f)\n",
    "        optpara.append(result.best_params_)\n",
    "with open('gbrt_allpara_learn_est.pickle', 'wb') as f:\n",
    "    pickle.dump(optpara,f)"
   ]
  },
  {
   "cell_type": "markdown",
   "metadata": {},
   "source": [
    "# GBRT没有再分析数据优化参数"
   ]
  },
  {
   "cell_type": "code",
   "execution_count": 267,
   "metadata": {},
   "outputs": [
    {
     "name": "stdout",
     "output_type": "stream",
     "text": [
      "Fitting 1 folds for each of 40000 candidates, totalling 40000 fits\n"
     ]
    },
    {
     "name": "stderr",
     "output_type": "stream",
     "text": [
      "[Parallel(n_jobs=8)]: Using backend LokyBackend with 8 concurrent workers.\n",
      "[Parallel(n_jobs=8)]: Done  34 tasks      | elapsed:    1.8s\n",
      "[Parallel(n_jobs=8)]: Done 1307 tasks      | elapsed:    8.0s\n",
      "[Parallel(n_jobs=8)]: Done 3807 tasks      | elapsed:   22.0s\n",
      "[Parallel(n_jobs=8)]: Done 7147 tasks      | elapsed:   50.7s\n",
      "[Parallel(n_jobs=8)]: Done 9397 tasks      | elapsed:  1.3min\n",
      "[Parallel(n_jobs=8)]: Done 12147 tasks      | elapsed:  1.9min\n",
      "[Parallel(n_jobs=8)]: Done 14719 tasks      | elapsed:  2.6min\n",
      "[Parallel(n_jobs=8)]: Done 16219 tasks      | elapsed:  3.0min\n",
      "[Parallel(n_jobs=8)]: Done 17919 tasks      | elapsed:  3.6min\n",
      "[Parallel(n_jobs=8)]: Done 19819 tasks      | elapsed:  4.4min\n",
      "[Parallel(n_jobs=8)]: Done 21919 tasks      | elapsed:  5.1min\n",
      "[Parallel(n_jobs=8)]: Done 24219 tasks      | elapsed:  6.0min\n",
      "[Parallel(n_jobs=8)]: Done 26719 tasks      | elapsed:  6.9min\n",
      "[Parallel(n_jobs=8)]: Done 29419 tasks      | elapsed:  7.9min\n",
      "[Parallel(n_jobs=8)]: Done 32319 tasks      | elapsed:  9.2min\n",
      "[Parallel(n_jobs=8)]: Done 35419 tasks      | elapsed: 10.6min\n",
      "[Parallel(n_jobs=8)]: Done 38719 tasks      | elapsed: 12.1min\n",
      "[Parallel(n_jobs=8)]: Done 39985 out of 40000 | elapsed: 12.8min remaining:    0.2s\n",
      "[Parallel(n_jobs=8)]: Done 40000 out of 40000 | elapsed: 12.8min finished\n"
     ]
    },
    {
     "name": "stdout",
     "output_type": "stream",
     "text": [
      "Wall time: 12min 46s\n",
      "{'max_depth': 3, 'max_leaf_nodes': 8, 'min_samples_leaf': 6, 'min_samples_split': 18} -130.0282592082776\n",
      "Fitting 1 folds for each of 40000 candidates, totalling 40000 fits\n"
     ]
    },
    {
     "name": "stderr",
     "output_type": "stream",
     "text": [
      "[Parallel(n_jobs=8)]: Using backend LokyBackend with 8 concurrent workers.\n",
      "[Parallel(n_jobs=8)]: Done 160 tasks      | elapsed:    1.0s\n",
      "[Parallel(n_jobs=8)]: Done 1360 tasks      | elapsed:    8.0s\n",
      "[Parallel(n_jobs=8)]: Done 3360 tasks      | elapsed:   20.1s\n",
      "[Parallel(n_jobs=8)]: Done 6160 tasks      | elapsed:   44.8s\n",
      "[Parallel(n_jobs=8)]: Done 9184 tasks      | elapsed:  1.3min\n",
      "[Parallel(n_jobs=8)]: Done 11384 tasks      | elapsed:  1.8min\n",
      "[Parallel(n_jobs=8)]: Done 13984 tasks      | elapsed:  2.5min\n",
      "[Parallel(n_jobs=8)]: Done 16984 tasks      | elapsed:  3.3min\n",
      "[Parallel(n_jobs=8)]: Done 19674 tasks      | elapsed:  4.3min\n",
      "[Parallel(n_jobs=8)]: Done 21574 tasks      | elapsed:  4.8min\n",
      "[Parallel(n_jobs=8)]: Done 23674 tasks      | elapsed:  5.6min\n",
      "[Parallel(n_jobs=8)]: Done 25974 tasks      | elapsed:  6.4min\n",
      "[Parallel(n_jobs=8)]: Done 28474 tasks      | elapsed:  7.3min\n",
      "[Parallel(n_jobs=8)]: Done 31174 tasks      | elapsed:  8.4min\n",
      "[Parallel(n_jobs=8)]: Done 34074 tasks      | elapsed:  9.5min\n",
      "[Parallel(n_jobs=8)]: Done 37174 tasks      | elapsed: 10.8min\n",
      "[Parallel(n_jobs=8)]: Done 40000 out of 40000 | elapsed: 12.2min finished\n"
     ]
    },
    {
     "name": "stdout",
     "output_type": "stream",
     "text": [
      "Wall time: 12min 11s\n",
      "{'max_depth': 2, 'max_leaf_nodes': 4, 'min_samples_leaf': 31, 'min_samples_split': 2} -162.98585138712258\n",
      "Fitting 1 folds for each of 40000 candidates, totalling 40000 fits\n"
     ]
    },
    {
     "name": "stderr",
     "output_type": "stream",
     "text": [
      "[Parallel(n_jobs=8)]: Using backend LokyBackend with 8 concurrent workers.\n",
      "[Parallel(n_jobs=8)]: Done 160 tasks      | elapsed:    1.0s\n",
      "[Parallel(n_jobs=8)]: Done 1360 tasks      | elapsed:    8.2s\n",
      "[Parallel(n_jobs=8)]: Done 3360 tasks      | elapsed:   19.8s\n",
      "[Parallel(n_jobs=8)]: Done 6160 tasks      | elapsed:   44.7s\n",
      "[Parallel(n_jobs=8)]: Done 9760 tasks      | elapsed:  1.4min\n",
      "[Parallel(n_jobs=8)]: Done 12008 tasks      | elapsed:  1.9min\n",
      "[Parallel(n_jobs=8)]: Done 14608 tasks      | elapsed:  2.5min\n",
      "[Parallel(n_jobs=8)]: Done 17368 tasks      | elapsed:  3.3min\n",
      "[Parallel(n_jobs=8)]: Done 19068 tasks      | elapsed:  3.9min\n",
      "[Parallel(n_jobs=8)]: Done 20968 tasks      | elapsed:  4.4min\n",
      "[Parallel(n_jobs=8)]: Done 23068 tasks      | elapsed:  5.2min\n",
      "[Parallel(n_jobs=8)]: Done 25368 tasks      | elapsed:  6.0min\n",
      "[Parallel(n_jobs=8)]: Done 27868 tasks      | elapsed:  7.1min\n",
      "[Parallel(n_jobs=8)]: Done 30568 tasks      | elapsed:  8.1min\n",
      "[Parallel(n_jobs=8)]: Done 33468 tasks      | elapsed:  9.3min\n",
      "[Parallel(n_jobs=8)]: Done 36568 tasks      | elapsed: 10.6min\n",
      "[Parallel(n_jobs=8)]: Done 39868 tasks      | elapsed: 12.2min\n",
      "[Parallel(n_jobs=8)]: Done 40000 out of 40000 | elapsed: 12.2min finished\n"
     ]
    },
    {
     "name": "stdout",
     "output_type": "stream",
     "text": [
      "Wall time: 12min 15s\n",
      "{'max_depth': 2, 'max_leaf_nodes': 4, 'min_samples_leaf': 1, 'min_samples_split': 16} -193.26480859759943\n",
      "Fitting 1 folds for each of 40000 candidates, totalling 40000 fits\n"
     ]
    },
    {
     "name": "stderr",
     "output_type": "stream",
     "text": [
      "[Parallel(n_jobs=8)]: Using backend LokyBackend with 8 concurrent workers.\n",
      "[Parallel(n_jobs=8)]: Done 160 tasks      | elapsed:    1.1s\n",
      "[Parallel(n_jobs=8)]: Done 1360 tasks      | elapsed:    8.7s\n",
      "[Parallel(n_jobs=8)]: Done 3360 tasks      | elapsed:   22.0s\n",
      "[Parallel(n_jobs=8)]: Done 6160 tasks      | elapsed:   49.0s\n",
      "[Parallel(n_jobs=8)]: Done 9760 tasks      | elapsed:  1.5min\n",
      "[Parallel(n_jobs=8)]: Done 13636 tasks      | elapsed:  2.4min\n",
      "[Parallel(n_jobs=8)]: Done 16236 tasks      | elapsed:  3.1min\n",
      "[Parallel(n_jobs=8)]: Done 19236 tasks      | elapsed:  4.1min\n",
      "[Parallel(n_jobs=8)]: Done 22636 tasks      | elapsed:  5.3min\n",
      "[Parallel(n_jobs=8)]: Done 24884 tasks      | elapsed:  6.1min\n",
      "[Parallel(n_jobs=8)]: Done 26984 tasks      | elapsed:  7.0min\n",
      "[Parallel(n_jobs=8)]: Done 29284 tasks      | elapsed:  7.9min\n",
      "[Parallel(n_jobs=8)]: Done 31784 tasks      | elapsed:  9.0min\n",
      "[Parallel(n_jobs=8)]: Done 34484 tasks      | elapsed: 10.0min\n",
      "[Parallel(n_jobs=8)]: Done 37384 tasks      | elapsed: 11.1min\n",
      "[Parallel(n_jobs=8)]: Done 40000 out of 40000 | elapsed: 12.4min finished\n"
     ]
    },
    {
     "name": "stdout",
     "output_type": "stream",
     "text": [
      "Wall time: 12min 26s\n",
      "{'max_depth': 2, 'max_leaf_nodes': 4, 'min_samples_leaf': 1, 'min_samples_split': 16} -214.44765281508435\n",
      "Fitting 1 folds for each of 40000 candidates, totalling 40000 fits\n"
     ]
    },
    {
     "name": "stderr",
     "output_type": "stream",
     "text": [
      "[Parallel(n_jobs=8)]: Using backend LokyBackend with 8 concurrent workers.\n",
      "[Parallel(n_jobs=8)]: Done 160 tasks      | elapsed:    1.1s\n",
      "[Parallel(n_jobs=8)]: Done 1360 tasks      | elapsed:    8.1s\n",
      "[Parallel(n_jobs=8)]: Done 3360 tasks      | elapsed:   21.0s\n",
      "[Parallel(n_jobs=8)]: Done 6160 tasks      | elapsed:   45.8s\n",
      "[Parallel(n_jobs=8)]: Done 9760 tasks      | elapsed:  1.4min\n",
      "[Parallel(n_jobs=8)]: Done 13484 tasks      | elapsed:  2.3min\n",
      "[Parallel(n_jobs=8)]: Done 16084 tasks      | elapsed:  3.0min\n",
      "[Parallel(n_jobs=8)]: Done 19084 tasks      | elapsed:  3.9min\n",
      "[Parallel(n_jobs=8)]: Done 22484 tasks      | elapsed:  5.0min\n",
      "[Parallel(n_jobs=8)]: Done 26284 tasks      | elapsed:  6.3min\n",
      "[Parallel(n_jobs=8)]: Done 30484 tasks      | elapsed:  7.9min\n",
      "[Parallel(n_jobs=8)]: Done 33402 tasks      | elapsed:  9.0min\n",
      "[Parallel(n_jobs=8)]: Done 35902 tasks      | elapsed: 10.2min\n",
      "[Parallel(n_jobs=8)]: Done 38602 tasks      | elapsed: 11.3min\n",
      "[Parallel(n_jobs=8)]: Done 40000 out of 40000 | elapsed: 12.0min finished\n"
     ]
    },
    {
     "name": "stdout",
     "output_type": "stream",
     "text": [
      "Wall time: 12min 3s\n",
      "{'max_depth': 3, 'max_leaf_nodes': 4, 'min_samples_leaf': 1, 'min_samples_split': 24} -229.57528700685756\n",
      "Fitting 1 folds for each of 40000 candidates, totalling 40000 fits\n"
     ]
    },
    {
     "name": "stderr",
     "output_type": "stream",
     "text": [
      "[Parallel(n_jobs=8)]: Using backend LokyBackend with 8 concurrent workers.\n",
      "[Parallel(n_jobs=8)]: Done 196 tasks      | elapsed:    1.5s\n",
      "[Parallel(n_jobs=8)]: Done 1696 tasks      | elapsed:   10.4s\n",
      "[Parallel(n_jobs=8)]: Done 4196 tasks      | elapsed:   26.6s\n",
      "[Parallel(n_jobs=8)]: Done 7696 tasks      | elapsed:   59.1s\n",
      "[Parallel(n_jobs=8)]: Done 10471 tasks      | elapsed:  1.6min\n",
      "[Parallel(n_jobs=8)]: Done 13221 tasks      | elapsed:  2.2min\n",
      "[Parallel(n_jobs=8)]: Done 14686 tasks      | elapsed:  2.6min\n",
      "[Parallel(n_jobs=8)]: Done 16186 tasks      | elapsed:  3.0min\n",
      "[Parallel(n_jobs=8)]: Done 17886 tasks      | elapsed:  3.5min\n",
      "[Parallel(n_jobs=8)]: Done 19786 tasks      | elapsed:  4.2min\n",
      "[Parallel(n_jobs=8)]: Done 21886 tasks      | elapsed:  4.9min\n",
      "[Parallel(n_jobs=8)]: Done 24186 tasks      | elapsed:  5.8min\n",
      "[Parallel(n_jobs=8)]: Done 26686 tasks      | elapsed:  6.7min\n",
      "[Parallel(n_jobs=8)]: Done 29386 tasks      | elapsed:  7.7min\n",
      "[Parallel(n_jobs=8)]: Done 32286 tasks      | elapsed:  8.9min\n",
      "[Parallel(n_jobs=8)]: Done 35386 tasks      | elapsed: 10.2min\n",
      "[Parallel(n_jobs=8)]: Done 38686 tasks      | elapsed: 11.6min\n",
      "[Parallel(n_jobs=8)]: Done 40000 out of 40000 | elapsed: 12.3min finished\n"
     ]
    },
    {
     "name": "stdout",
     "output_type": "stream",
     "text": [
      "Wall time: 12min 17s\n",
      "{'max_depth': 1, 'max_leaf_nodes': 2, 'min_samples_leaf': 31, 'min_samples_split': 2} -243.6838633210695\n",
      "Fitting 1 folds for each of 40000 candidates, totalling 40000 fits\n"
     ]
    },
    {
     "name": "stderr",
     "output_type": "stream",
     "text": [
      "[Parallel(n_jobs=8)]: Using backend LokyBackend with 8 concurrent workers.\n",
      "[Parallel(n_jobs=8)]: Done 196 tasks      | elapsed:    1.3s\n",
      "[Parallel(n_jobs=8)]: Done 1696 tasks      | elapsed:    9.6s\n",
      "[Parallel(n_jobs=8)]: Done 4196 tasks      | elapsed:   25.4s\n",
      "[Parallel(n_jobs=8)]: Done 6326 tasks      | elapsed:   49.7s\n",
      "[Parallel(n_jobs=8)]: Done 8576 tasks      | elapsed:  1.4min\n",
      "[Parallel(n_jobs=8)]: Done 11326 tasks      | elapsed:  2.2min\n",
      "[Parallel(n_jobs=8)]: Done 14561 tasks      | elapsed:  3.1min\n",
      "[Parallel(n_jobs=8)]: Done 16061 tasks      | elapsed:  3.5min\n",
      "[Parallel(n_jobs=8)]: Done 17761 tasks      | elapsed:  4.0min\n",
      "[Parallel(n_jobs=8)]: Done 19661 tasks      | elapsed:  4.7min\n",
      "[Parallel(n_jobs=8)]: Done 21761 tasks      | elapsed:  5.4min\n",
      "[Parallel(n_jobs=8)]: Done 24061 tasks      | elapsed:  6.2min\n",
      "[Parallel(n_jobs=8)]: Done 26561 tasks      | elapsed:  7.1min\n",
      "[Parallel(n_jobs=8)]: Done 29261 tasks      | elapsed:  8.1min\n",
      "[Parallel(n_jobs=8)]: Done 31650 tasks      | elapsed:  9.6min\n",
      "[Parallel(n_jobs=8)]: Done 33200 tasks      | elapsed: 10.3min\n",
      "[Parallel(n_jobs=8)]: Done 34850 tasks      | elapsed: 11.3min\n",
      "[Parallel(n_jobs=8)]: Done 37168 tasks      | elapsed: 12.4min\n",
      "[Parallel(n_jobs=8)]: Done 40000 out of 40000 | elapsed: 13.8min finished\n"
     ]
    },
    {
     "name": "stdout",
     "output_type": "stream",
     "text": [
      "Wall time: 13min 51s\n",
      "{'max_depth': 3, 'max_leaf_nodes': 4, 'min_samples_leaf': 6, 'min_samples_split': 16} -247.08168977529832\n",
      "Fitting 1 folds for each of 40000 candidates, totalling 40000 fits\n"
     ]
    },
    {
     "name": "stderr",
     "output_type": "stream",
     "text": [
      "[Parallel(n_jobs=8)]: Using backend LokyBackend with 8 concurrent workers.\n",
      "[Parallel(n_jobs=8)]: Done 160 tasks      | elapsed:    1.1s\n",
      "[Parallel(n_jobs=8)]: Done 1360 tasks      | elapsed:    8.0s\n",
      "[Parallel(n_jobs=8)]: Done 3360 tasks      | elapsed:   19.7s\n",
      "[Parallel(n_jobs=8)]: Done 6160 tasks      | elapsed:   44.1s\n",
      "[Parallel(n_jobs=8)]: Done 9448 tasks      | elapsed:  1.3min\n",
      "[Parallel(n_jobs=8)]: Done 11648 tasks      | elapsed:  1.8min\n",
      "[Parallel(n_jobs=8)]: Done 14248 tasks      | elapsed:  2.4min\n",
      "[Parallel(n_jobs=8)]: Done 17248 tasks      | elapsed:  3.2min\n",
      "[Parallel(n_jobs=8)]: Done 20648 tasks      | elapsed:  4.3min\n",
      "[Parallel(n_jobs=8)]: Done 23572 tasks      | elapsed:  5.4min\n",
      "[Parallel(n_jobs=8)]: Done 25672 tasks      | elapsed:  6.2min\n",
      "[Parallel(n_jobs=8)]: Done 27972 tasks      | elapsed:  7.2min\n",
      "[Parallel(n_jobs=8)]: Done 30472 tasks      | elapsed:  8.1min\n",
      "[Parallel(n_jobs=8)]: Done 33172 tasks      | elapsed:  9.3min\n",
      "[Parallel(n_jobs=8)]: Done 36072 tasks      | elapsed: 10.7min\n",
      "[Parallel(n_jobs=8)]: Done 39172 tasks      | elapsed: 12.1min\n",
      "[Parallel(n_jobs=8)]: Done 40000 out of 40000 | elapsed: 12.6min finished\n"
     ]
    },
    {
     "name": "stdout",
     "output_type": "stream",
     "text": [
      "Wall time: 12min 35s\n",
      "{'max_depth': 1, 'max_leaf_nodes': 2, 'min_samples_leaf': 1, 'min_samples_split': 2} -256.81280271446735\n",
      "Fitting 1 folds for each of 40000 candidates, totalling 40000 fits\n"
     ]
    },
    {
     "name": "stderr",
     "output_type": "stream",
     "text": [
      "[Parallel(n_jobs=8)]: Using backend LokyBackend with 8 concurrent workers.\n",
      "[Parallel(n_jobs=8)]: Done 124 tasks      | elapsed:    0.9s\n",
      "[Parallel(n_jobs=8)]: Done 1024 tasks      | elapsed:    7.1s\n",
      "[Parallel(n_jobs=8)]: Done 2524 tasks      | elapsed:   17.7s\n",
      "[Parallel(n_jobs=8)]: Done 4624 tasks      | elapsed:   35.9s\n",
      "[Parallel(n_jobs=8)]: Done 7324 tasks      | elapsed:  1.0min\n",
      "[Parallel(n_jobs=8)]: Done 10624 tasks      | elapsed:  1.7min\n",
      "[Parallel(n_jobs=8)]: Done 14524 tasks      | elapsed:  2.6min\n",
      "[Parallel(n_jobs=8)]: Done 18895 tasks      | elapsed:  3.8min\n",
      "[Parallel(n_jobs=8)]: Done 21445 tasks      | elapsed:  4.6min\n",
      "[Parallel(n_jobs=8)]: Done 24295 tasks      | elapsed:  5.6min\n",
      "[Parallel(n_jobs=8)]: Done 27445 tasks      | elapsed:  6.8min\n",
      "[Parallel(n_jobs=8)]: Done 30895 tasks      | elapsed:  8.1min\n",
      "[Parallel(n_jobs=8)]: Done 34645 tasks      | elapsed:  9.6min\n",
      "[Parallel(n_jobs=8)]: Done 38695 tasks      | elapsed: 11.2min\n",
      "[Parallel(n_jobs=8)]: Done 39985 out of 40000 | elapsed: 11.9min remaining:    0.2s\n",
      "[Parallel(n_jobs=8)]: Done 40000 out of 40000 | elapsed: 11.9min finished\n"
     ]
    },
    {
     "name": "stdout",
     "output_type": "stream",
     "text": [
      "Wall time: 11min 53s\n",
      "{'max_depth': 1, 'max_leaf_nodes': 2, 'min_samples_leaf': 6, 'min_samples_split': 2} -261.98115226359465\n",
      "Fitting 1 folds for each of 40000 candidates, totalling 40000 fits\n"
     ]
    },
    {
     "name": "stderr",
     "output_type": "stream",
     "text": [
      "[Parallel(n_jobs=8)]: Using backend LokyBackend with 8 concurrent workers.\n",
      "[Parallel(n_jobs=8)]: Done 160 tasks      | elapsed:    1.1s\n",
      "[Parallel(n_jobs=8)]: Done 1360 tasks      | elapsed:    7.8s\n",
      "[Parallel(n_jobs=8)]: Done 3360 tasks      | elapsed:   19.3s\n",
      "[Parallel(n_jobs=8)]: Done 6160 tasks      | elapsed:   42.5s\n",
      "[Parallel(n_jobs=8)]: Done 9760 tasks      | elapsed:  1.4min\n",
      "[Parallel(n_jobs=8)]: Done 12572 tasks      | elapsed:  2.0min\n",
      "[Parallel(n_jobs=8)]: Done 15172 tasks      | elapsed:  2.7min\n",
      "[Parallel(n_jobs=8)]: Done 18172 tasks      | elapsed:  3.6min\n",
      "[Parallel(n_jobs=8)]: Done 21572 tasks      | elapsed:  4.7min\n",
      "[Parallel(n_jobs=8)]: Done 23656 tasks      | elapsed:  5.5min\n",
      "[Parallel(n_jobs=8)]: Done 25756 tasks      | elapsed:  6.2min\n",
      "[Parallel(n_jobs=8)]: Done 28056 tasks      | elapsed:  7.2min\n",
      "[Parallel(n_jobs=8)]: Done 30556 tasks      | elapsed:  8.2min\n",
      "[Parallel(n_jobs=8)]: Done 33256 tasks      | elapsed:  9.4min\n",
      "[Parallel(n_jobs=8)]: Done 36156 tasks      | elapsed: 11.1min\n",
      "[Parallel(n_jobs=8)]: Done 39256 tasks      | elapsed: 12.8min\n",
      "[Parallel(n_jobs=8)]: Done 40000 out of 40000 | elapsed: 13.2min finished\n"
     ]
    },
    {
     "name": "stdout",
     "output_type": "stream",
     "text": [
      "Wall time: 13min 15s\n",
      "{'max_depth': 1, 'max_leaf_nodes': 2, 'min_samples_leaf': 1, 'min_samples_split': 2} -266.05603290029245\n"
     ]
    }
   ],
   "source": [
    "param_grid = {'max_depth': range(1,11),\n",
    "              'min_samples_leaf': range(1,51,5), \n",
    "              'max_leaf_nodes':range(2,41,2),\n",
    "              'min_samples_split':range(2,41,2),\n",
    "              }\n",
    "est = GradientBoostingRegressor(n_estimators=100,learning_rate=0.1,random_state=10)\n",
    "for leadtime in range(1,11):\n",
    "    X,y = MyPrepaData.Preparation(data=data,Qlag=[1,4],Rlag=range(1,7),reanalysis=reanalysis,isreanalysis=False,leadtime=leadtime)\n",
    "    X_train, X_test, y_train, y_test = train_test_split(X,y,test_size=730,shuffle=False)\n",
    "    length = X_train.shape[0]\n",
    "    tscv = [([_ for _ in range(length-731)],[_ for _ in range(length-731,length)]) for i in range(1)]\n",
    "    %time gs_cv = GridSearchCV(est, param_grid, scoring=make_scorer(mae,greater_is_better=False),\\\n",
    "                               cv = tscv ,n_jobs=8,verbose=1).fit(X_train.values,y_train.values)\n",
    "    with open('gbrt_para_nore%d.pickle'%leadtime, 'wb') as f:\n",
    "        pickle.dump(gs_cv,f)\n",
    "    print(gs_cv.best_params_,gs_cv.best_score_)"
   ]
  },
  {
   "cell_type": "code",
   "execution_count": 268,
   "metadata": {},
   "outputs": [],
   "source": [
    "optpara = []\n",
    "for leadtime in range(1,11):\n",
    "    with open('gbrt_para_nore%d.pickle'%(leadtime), 'rb') as f:\n",
    "        result = pickle.load(f)\n",
    "        optpara.append(result.best_params_)\n",
    "with open('gbrt_allpara_nore.pickle', 'wb') as f:\n",
    "    pickle.dump(optpara,f)"
   ]
  },
  {
   "cell_type": "code",
   "execution_count": 269,
   "metadata": {
    "scrolled": true
   },
   "outputs": [
    {
     "name": "stdout",
     "output_type": "stream",
     "text": [
      "Fitting 5 folds for each of 40 candidates, totalling 200 fits\n"
     ]
    },
    {
     "name": "stderr",
     "output_type": "stream",
     "text": [
      "[Parallel(n_jobs=6)]: Using backend LokyBackend with 6 concurrent workers.\n",
      "[Parallel(n_jobs=6)]: Done  62 tasks      | elapsed:    7.5s\n",
      "[Parallel(n_jobs=6)]: Done 200 out of 200 | elapsed:   56.7s finished\n"
     ]
    },
    {
     "name": "stdout",
     "output_type": "stream",
     "text": [
      "Wall time: 57.7 s\n",
      "{'learning_rate': 0.01, 'n_estimators': 1100} -130.89342848930474\n",
      "Fitting 5 folds for each of 40 candidates, totalling 200 fits\n"
     ]
    },
    {
     "name": "stderr",
     "output_type": "stream",
     "text": [
      "[Parallel(n_jobs=6)]: Using backend LokyBackend with 6 concurrent workers.\n",
      "[Parallel(n_jobs=6)]: Done 132 tasks      | elapsed:   20.8s\n",
      "[Parallel(n_jobs=6)]: Done 200 out of 200 | elapsed:   44.0s finished\n"
     ]
    },
    {
     "name": "stdout",
     "output_type": "stream",
     "text": [
      "Wall time: 44.5 s\n",
      "{'learning_rate': 0.01, 'n_estimators': 900} -163.20544759775686\n",
      "Fitting 5 folds for each of 40 candidates, totalling 200 fits\n"
     ]
    },
    {
     "name": "stderr",
     "output_type": "stream",
     "text": [
      "[Parallel(n_jobs=6)]: Using backend LokyBackend with 6 concurrent workers.\n",
      "[Parallel(n_jobs=6)]: Done 126 tasks      | elapsed:   19.7s\n",
      "[Parallel(n_jobs=6)]: Done 200 out of 200 | elapsed:   48.9s finished\n"
     ]
    },
    {
     "name": "stdout",
     "output_type": "stream",
     "text": [
      "Wall time: 49.6 s\n",
      "{'learning_rate': 0.01, 'n_estimators': 1200} -193.75425316438844\n",
      "Fitting 5 folds for each of 40 candidates, totalling 200 fits\n"
     ]
    },
    {
     "name": "stderr",
     "output_type": "stream",
     "text": [
      "[Parallel(n_jobs=6)]: Using backend LokyBackend with 6 concurrent workers.\n",
      "[Parallel(n_jobs=6)]: Done 132 tasks      | elapsed:   23.4s\n",
      "[Parallel(n_jobs=6)]: Done 200 out of 200 | elapsed:   45.2s finished\n"
     ]
    },
    {
     "name": "stdout",
     "output_type": "stream",
     "text": [
      "Wall time: 45.6 s\n",
      "{'learning_rate': 0.01, 'n_estimators': 700} -214.4519502097778\n",
      "Fitting 5 folds for each of 40 candidates, totalling 200 fits\n"
     ]
    },
    {
     "name": "stderr",
     "output_type": "stream",
     "text": [
      "[Parallel(n_jobs=6)]: Using backend LokyBackend with 6 concurrent workers.\n",
      "[Parallel(n_jobs=6)]: Done 100 tasks      | elapsed:   14.7s\n",
      "[Parallel(n_jobs=6)]: Done 200 out of 200 | elapsed:   54.6s finished\n"
     ]
    },
    {
     "name": "stdout",
     "output_type": "stream",
     "text": [
      "Wall time: 55.4 s\n",
      "{'learning_rate': 0.01, 'n_estimators': 700} -229.6923012968204\n",
      "Fitting 5 folds for each of 40 candidates, totalling 200 fits\n"
     ]
    },
    {
     "name": "stderr",
     "output_type": "stream",
     "text": [
      "[Parallel(n_jobs=6)]: Using backend LokyBackend with 6 concurrent workers.\n",
      "[Parallel(n_jobs=6)]: Done 137 tasks      | elapsed:   14.4s\n",
      "[Parallel(n_jobs=6)]: Done 200 out of 200 | elapsed:   29.7s finished\n"
     ]
    },
    {
     "name": "stdout",
     "output_type": "stream",
     "text": [
      "Wall time: 30.3 s\n",
      "{'learning_rate': 0.01, 'n_estimators': 1200} -243.00476840482557\n",
      "Fitting 5 folds for each of 40 candidates, totalling 200 fits\n"
     ]
    },
    {
     "name": "stderr",
     "output_type": "stream",
     "text": [
      "[Parallel(n_jobs=6)]: Using backend LokyBackend with 6 concurrent workers.\n",
      "[Parallel(n_jobs=6)]: Done  61 tasks      | elapsed:    6.5s\n",
      "[Parallel(n_jobs=6)]: Done 200 out of 200 | elapsed:  1.0min finished\n"
     ]
    },
    {
     "name": "stdout",
     "output_type": "stream",
     "text": [
      "Wall time: 1min 3s\n",
      "{'learning_rate': 0.01, 'n_estimators': 600} -247.11546006892985\n",
      "Fitting 5 folds for each of 40 candidates, totalling 200 fits\n"
     ]
    },
    {
     "name": "stderr",
     "output_type": "stream",
     "text": [
      "[Parallel(n_jobs=6)]: Using backend LokyBackend with 6 concurrent workers.\n",
      "[Parallel(n_jobs=6)]: Done 134 tasks      | elapsed:   15.9s\n",
      "[Parallel(n_jobs=6)]: Done 200 out of 200 | elapsed:   31.5s finished\n"
     ]
    },
    {
     "name": "stdout",
     "output_type": "stream",
     "text": [
      "Wall time: 32.2 s\n",
      "{'learning_rate': 0.01, 'n_estimators': 1100} -256.3562121220269\n",
      "Fitting 5 folds for each of 40 candidates, totalling 200 fits\n"
     ]
    },
    {
     "name": "stderr",
     "output_type": "stream",
     "text": [
      "[Parallel(n_jobs=6)]: Using backend LokyBackend with 6 concurrent workers.\n",
      "[Parallel(n_jobs=6)]: Done 106 tasks      | elapsed:   11.0s\n",
      "[Parallel(n_jobs=6)]: Done 200 out of 200 | elapsed:   33.5s finished\n"
     ]
    },
    {
     "name": "stdout",
     "output_type": "stream",
     "text": [
      "Wall time: 33.9 s\n",
      "{'learning_rate': 0.01, 'n_estimators': 900} -261.23785895318986\n",
      "Fitting 5 folds for each of 40 candidates, totalling 200 fits\n"
     ]
    },
    {
     "name": "stderr",
     "output_type": "stream",
     "text": [
      "[Parallel(n_jobs=6)]: Using backend LokyBackend with 6 concurrent workers.\n",
      "[Parallel(n_jobs=6)]: Done 172 tasks      | elapsed:   18.5s\n",
      "[Parallel(n_jobs=6)]: Done 189 out of 200 | elapsed:   21.4s remaining:    1.2s\n",
      "[Parallel(n_jobs=6)]: Done 200 out of 200 | elapsed:   23.1s finished\n"
     ]
    },
    {
     "name": "stdout",
     "output_type": "stream",
     "text": [
      "Wall time: 23.4 s\n",
      "{'learning_rate': 0.01, 'n_estimators': 900} -266.5111025281714\n"
     ]
    }
   ],
   "source": [
    "with open('gbrt_allpara_nore.pickle', 'rb') as f:\n",
    "    optpara = pickle.load(f)\n",
    "min_samples_split= [_['min_samples_split'] for _ in optpara]\n",
    "min_samples_leaf = [_['min_samples_leaf'] for _ in optpara]\n",
    "max_depth = [_['max_depth'] for _ in optpara]\n",
    "max_leaf_nodes = [_['max_leaf_nodes'] for _ in optpara]\n",
    "\n",
    "for leadtime in range(1,11):\n",
    "    param_grid = {'n_estimators':range(100,4001,100),\n",
    "          'learning_rate': [0.01],\n",
    "          }\n",
    "    est = GradientBoostingRegressor(min_samples_split= min_samples_split[leadtime-1],\n",
    "                                          max_depth = max_depth[leadtime-1],max_leaf_nodes=max_leaf_nodes[leadtime-1],\n",
    "                                          min_samples_leaf=min_samples_leaf[leadtime-1],random_state=10)\n",
    "    X,y = Preparation(data=data,Qlag=[1,4],Rlag=range(1,7),reanalysis=reanalysis,isreanalysis=False,leadtime=leadtime)\n",
    "    X_train, X_test, y_train, y_test = train_test_split(X,y,test_size=730,shuffle=False)\n",
    "    length = X_train.shape[0]\n",
    "    tscv = [([_ for _ in range(length-731)],[_ for _ in range(length-731,length)]) for i in range(5)]\n",
    "    %time gs_cv = GridSearchCV(est, param_grid, scoring=make_scorer(mae,greater_is_better=False),\\\n",
    "                               cv = tscv ,n_jobs=6,verbose=1).fit(X_train.values,y_train.values)\n",
    "    with open('gbrt_para_learn_est%d_nore.pickle'%(leadtime), 'wb') as f:\n",
    "        pickle.dump(gs_cv,f)\n",
    "    print(gs_cv.best_params_,gs_cv.best_score_)\n"
   ]
  },
  {
   "cell_type": "code",
   "execution_count": 270,
   "metadata": {},
   "outputs": [],
   "source": [
    "optpara = []\n",
    "for leadtime in range(1,11):\n",
    "    with open('gbrt_para_learn_est%d_nore.pickle'%(leadtime), 'rb') as f:\n",
    "        result = pickle.load(f)\n",
    "        optpara.append(result.best_params_)\n",
    "with open('gbrt_allpara_learn_est_nore.pickle', 'wb') as f:\n",
    "    pickle.dump(optpara,f)"
   ]
  },
  {
   "cell_type": "code",
   "execution_count": 32,
   "metadata": {},
   "outputs": [
    {
     "name": "stdout",
     "output_type": "stream",
     "text": [
      "GBRT-n_estimators:3800,2700,1300,900,1000,700,1400,2000,1300,1200,\n",
      "GBRT-max_leaf_nodes:7,9,13,7,15,4,5,4,4,17,\n",
      "GBRT-min_samples_leaf:2,7,2,4,2,1,10,10,8,1,\n",
      "GBRT-max_depth:4,6,8,5,9,9,2,2,7,2,\n",
      "GBRT-min_samples_split:18,15,12,13,8,3,19,3,19,8,\n",
      "**************************************************\n",
      "GBRT_nore-n_estimators:1100,900,1200,700,700,1200,600,1100,900,900,\n",
      "GBRT_nore-max_leaf_nodes:8,4,4,4,4,2,4,2,2,2,\n",
      "GBRT_nore-min_samples_leaf:6,31,1,1,1,31,6,1,6,1,\n",
      "GBRT_nore-max_depth:3,2,2,2,3,1,3,1,1,1,\n",
      "GBRT_nore-min_samples_split:18,2,16,16,24,2,16,2,2,2,\n",
      "**************************************************\n"
     ]
    }
   ],
   "source": [
    "# show parameters of GBRT and GBRTMIC\n",
    "names = locals()\n",
    "for label in ['','_nore']:\n",
    "    n_estimators = []\n",
    "    max_leaf_nodes = []\n",
    "    min_samples_leaf = []\n",
    "    max_depth = []\n",
    "    min_samples_split = []\n",
    "    with open('gbrt_allpara_learn_est%s.pickle'%label, 'rb') as f:\n",
    "        result = pickle.load(f)\n",
    "        for r in result:\n",
    "            n_estimators.append(r['n_estimators'])\n",
    "    print('GBRT%s-n_estimators:'%label,end='')\n",
    "    for n in n_estimators:\n",
    "        print(n,end=',')\n",
    "    print()\n",
    "\n",
    "    with open('gbrt_allpara%s.pickle'%label, 'rb') as f:\n",
    "        result = pickle.load(f)\n",
    "        for r in result:\n",
    "            for na in ['max_leaf_nodes','min_samples_leaf','max_depth','min_samples_split']:\n",
    "                names[na].append(r[na])\n",
    "        for na in ['max_leaf_nodes','min_samples_leaf','max_depth','min_samples_split']:\n",
    "            print('GBRT%s-%s:'%(label,na),end='')\n",
    "            for m in names[na]:\n",
    "                print(m,end=',')\n",
    "            print()\n",
    "    print('*'*50)"
   ]
  },
  {
   "cell_type": "markdown",
   "metadata": {},
   "source": [
    "# SVR 优化模型参数"
   ]
  },
  {
   "cell_type": "code",
   "execution_count": 17,
   "metadata": {},
   "outputs": [
    {
     "name": "stdout",
     "output_type": "stream",
     "text": [
      "Fitting 1 folds for each of 8000 candidates, totalling 8000 fits\n"
     ]
    },
    {
     "name": "stderr",
     "output_type": "stream",
     "text": [
      "[Parallel(n_jobs=12)]: Using backend LokyBackend with 12 concurrent workers.\n",
      "[Parallel(n_jobs=12)]: Done  28 tasks      | elapsed:    1.2s\n",
      "[Parallel(n_jobs=12)]: Done 254 tasks      | elapsed:    6.1s\n",
      "[Parallel(n_jobs=12)]: Done 504 tasks      | elapsed:   11.0s\n",
      "[Parallel(n_jobs=12)]: Done 854 tasks      | elapsed:   18.8s\n",
      "[Parallel(n_jobs=12)]: Done 1304 tasks      | elapsed:   31.2s\n",
      "[Parallel(n_jobs=12)]: Done 1854 tasks      | elapsed:   48.9s\n",
      "[Parallel(n_jobs=12)]: Done 2504 tasks      | elapsed:  1.2min\n",
      "[Parallel(n_jobs=12)]: Done 3254 tasks      | elapsed:  1.8min\n",
      "[Parallel(n_jobs=12)]: Done 4104 tasks      | elapsed:  2.5min\n",
      "[Parallel(n_jobs=12)]: Done 5054 tasks      | elapsed:  3.4min\n",
      "[Parallel(n_jobs=12)]: Done 6104 tasks      | elapsed:  4.5min\n",
      "[Parallel(n_jobs=12)]: Done 7254 tasks      | elapsed:  5.9min\n",
      "[Parallel(n_jobs=12)]: Done 8000 out of 8000 | elapsed:  6.8min finished\n"
     ]
    },
    {
     "name": "stdout",
     "output_type": "stream",
     "text": [
      "Wall time: 6min 50s\n",
      "{'C': 6.2105263157894735, 'epsilon': 0.0068736842105263166, 'gamma': 0.03226315789473684} -0.02144091343069382\n",
      "Fitting 1 folds for each of 8000 candidates, totalling 8000 fits\n"
     ]
    },
    {
     "name": "stderr",
     "output_type": "stream",
     "text": [
      "[Parallel(n_jobs=12)]: Using backend LokyBackend with 12 concurrent workers.\n",
      "[Parallel(n_jobs=12)]: Done  28 tasks      | elapsed:    0.8s\n",
      "[Parallel(n_jobs=12)]: Done 328 tasks      | elapsed:    5.6s\n",
      "[Parallel(n_jobs=12)]: Done 828 tasks      | elapsed:   15.8s\n",
      "[Parallel(n_jobs=12)]: Done 1528 tasks      | elapsed:   34.1s\n",
      "[Parallel(n_jobs=12)]: Done 2252 tasks      | elapsed:   58.8s\n",
      "[Parallel(n_jobs=12)]: Done 2802 tasks      | elapsed:  1.3min\n",
      "[Parallel(n_jobs=12)]: Done 3452 tasks      | elapsed:  1.8min\n",
      "[Parallel(n_jobs=12)]: Done 4202 tasks      | elapsed:  2.4min\n",
      "[Parallel(n_jobs=12)]: Done 5052 tasks      | elapsed:  3.2min\n",
      "[Parallel(n_jobs=12)]: Done 6002 tasks      | elapsed:  4.1min\n",
      "[Parallel(n_jobs=12)]: Done 7052 tasks      | elapsed:  5.3min\n",
      "[Parallel(n_jobs=12)]: Done 8000 out of 8000 | elapsed:  6.4min finished\n",
      "[Parallel(n_jobs=12)]: Using backend LokyBackend with 12 concurrent workers.\n"
     ]
    },
    {
     "name": "stdout",
     "output_type": "stream",
     "text": [
      "Wall time: 6min 24s\n",
      "{'C': 1.0, 'epsilon': 0.008436842105263158, 'gamma': 0.05831578947368421} -0.02638720020340654\n",
      "Fitting 1 folds for each of 8000 candidates, totalling 8000 fits\n"
     ]
    },
    {
     "name": "stderr",
     "output_type": "stream",
     "text": [
      "[Parallel(n_jobs=12)]: Done  28 tasks      | elapsed:    0.8s\n",
      "[Parallel(n_jobs=12)]: Done 328 tasks      | elapsed:    5.4s\n",
      "[Parallel(n_jobs=12)]: Done 828 tasks      | elapsed:   15.2s\n",
      "[Parallel(n_jobs=12)]: Done 1528 tasks      | elapsed:   33.5s\n",
      "[Parallel(n_jobs=12)]: Done 2263 tasks      | elapsed:   57.2s\n",
      "[Parallel(n_jobs=12)]: Done 2813 tasks      | elapsed:  1.3min\n",
      "[Parallel(n_jobs=12)]: Done 3463 tasks      | elapsed:  1.7min\n",
      "[Parallel(n_jobs=12)]: Done 4213 tasks      | elapsed:  2.3min\n",
      "[Parallel(n_jobs=12)]: Done 5063 tasks      | elapsed:  3.1min\n",
      "[Parallel(n_jobs=12)]: Done 6013 tasks      | elapsed:  3.9min\n",
      "[Parallel(n_jobs=12)]: Done 7063 tasks      | elapsed:  5.1min\n",
      "[Parallel(n_jobs=12)]: Done 8000 out of 8000 | elapsed:  6.1min finished\n"
     ]
    },
    {
     "name": "stdout",
     "output_type": "stream",
     "text": [
      "Wall time: 6min 8s\n",
      "{'C': 1.0, 'epsilon': 0.0016631578947368423, 'gamma': 0.08436842105263158} -0.029990157384471746\n",
      "Fitting 1 folds for each of 8000 candidates, totalling 8000 fits\n"
     ]
    },
    {
     "name": "stderr",
     "output_type": "stream",
     "text": [
      "[Parallel(n_jobs=12)]: Using backend LokyBackend with 12 concurrent workers.\n",
      "[Parallel(n_jobs=12)]: Done  28 tasks      | elapsed:    0.8s\n",
      "[Parallel(n_jobs=12)]: Done 328 tasks      | elapsed:    5.6s\n",
      "[Parallel(n_jobs=12)]: Done 828 tasks      | elapsed:   15.8s\n",
      "[Parallel(n_jobs=12)]: Done 1528 tasks      | elapsed:   34.0s\n",
      "[Parallel(n_jobs=12)]: Done 2260 tasks      | elapsed:   58.0s\n",
      "[Parallel(n_jobs=12)]: Done 2810 tasks      | elapsed:  1.3min\n",
      "[Parallel(n_jobs=12)]: Done 3460 tasks      | elapsed:  1.7min\n",
      "[Parallel(n_jobs=12)]: Done 4210 tasks      | elapsed:  2.3min\n",
      "[Parallel(n_jobs=12)]: Done 5060 tasks      | elapsed:  3.0min\n",
      "[Parallel(n_jobs=12)]: Done 6010 tasks      | elapsed:  3.9min\n",
      "[Parallel(n_jobs=12)]: Done 7060 tasks      | elapsed:  5.1min\n",
      "[Parallel(n_jobs=12)]: Done 8000 out of 8000 | elapsed:  6.1min finished\n",
      "[Parallel(n_jobs=12)]: Using backend LokyBackend with 12 concurrent workers.\n"
     ]
    },
    {
     "name": "stdout",
     "output_type": "stream",
     "text": [
      "Wall time: 6min 6s\n",
      "{'C': 1.0, 'epsilon': 0.00791578947368421, 'gamma': 0.02705263157894737} -0.032044313559217295\n",
      "Fitting 1 folds for each of 8000 candidates, totalling 8000 fits\n"
     ]
    },
    {
     "name": "stderr",
     "output_type": "stream",
     "text": [
      "[Parallel(n_jobs=12)]: Done  28 tasks      | elapsed:    0.8s\n",
      "[Parallel(n_jobs=12)]: Done 328 tasks      | elapsed:    5.6s\n",
      "[Parallel(n_jobs=12)]: Done 828 tasks      | elapsed:   15.6s\n",
      "[Parallel(n_jobs=12)]: Done 1528 tasks      | elapsed:   33.6s\n",
      "[Parallel(n_jobs=12)]: Done 2270 tasks      | elapsed:   57.1s\n",
      "[Parallel(n_jobs=12)]: Done 2820 tasks      | elapsed:  1.3min\n",
      "[Parallel(n_jobs=12)]: Done 3470 tasks      | elapsed:  1.7min\n",
      "[Parallel(n_jobs=12)]: Done 4220 tasks      | elapsed:  2.3min\n",
      "[Parallel(n_jobs=12)]: Done 5070 tasks      | elapsed:  3.0min\n",
      "[Parallel(n_jobs=12)]: Done 6020 tasks      | elapsed:  3.8min\n",
      "[Parallel(n_jobs=12)]: Done 7070 tasks      | elapsed:  4.9min\n",
      "[Parallel(n_jobs=12)]: Done 8000 out of 8000 | elapsed:  5.9min finished\n"
     ]
    },
    {
     "name": "stdout",
     "output_type": "stream",
     "text": [
      "Wall time: 5min 54s\n",
      "{'C': 11.421052631578947, 'epsilon': 0.0016631578947368423, 'gamma': 0.006210526315789474} -0.03378306834129117\n",
      "Fitting 1 folds for each of 8000 candidates, totalling 8000 fits\n"
     ]
    },
    {
     "name": "stderr",
     "output_type": "stream",
     "text": [
      "[Parallel(n_jobs=12)]: Using backend LokyBackend with 12 concurrent workers.\n",
      "[Parallel(n_jobs=12)]: Done  28 tasks      | elapsed:    0.8s\n",
      "[Parallel(n_jobs=12)]: Done 328 tasks      | elapsed:    5.6s\n",
      "[Parallel(n_jobs=12)]: Done 828 tasks      | elapsed:   15.7s\n",
      "[Parallel(n_jobs=12)]: Done 1528 tasks      | elapsed:   33.4s\n",
      "[Parallel(n_jobs=12)]: Done 2428 tasks      | elapsed:  1.0min\n",
      "[Parallel(n_jobs=12)]: Done 3008 tasks      | elapsed:  1.4min\n",
      "[Parallel(n_jobs=12)]: Done 3658 tasks      | elapsed:  1.8min\n",
      "[Parallel(n_jobs=12)]: Done 4408 tasks      | elapsed:  2.4min\n",
      "[Parallel(n_jobs=12)]: Done 5258 tasks      | elapsed:  3.1min\n",
      "[Parallel(n_jobs=12)]: Done 6208 tasks      | elapsed:  4.0min\n",
      "[Parallel(n_jobs=12)]: Done 7258 tasks      | elapsed:  5.1min\n",
      "[Parallel(n_jobs=12)]: Done 8000 out of 8000 | elapsed:  5.9min finished\n"
     ]
    },
    {
     "name": "stdout",
     "output_type": "stream",
     "text": [
      "Wall time: 5min 53s\n",
      "{'C': 1.0, 'epsilon': 0.0001, 'gamma': 0.021842105263157895} -0.03484717007379201\n",
      "Fitting 1 folds for each of 8000 candidates, totalling 8000 fits\n"
     ]
    },
    {
     "name": "stderr",
     "output_type": "stream",
     "text": [
      "[Parallel(n_jobs=12)]: Using backend LokyBackend with 12 concurrent workers.\n",
      "[Parallel(n_jobs=12)]: Done  28 tasks      | elapsed:    0.8s\n",
      "[Parallel(n_jobs=12)]: Done 328 tasks      | elapsed:    5.6s\n",
      "[Parallel(n_jobs=12)]: Done 828 tasks      | elapsed:   15.5s\n",
      "[Parallel(n_jobs=12)]: Done 1528 tasks      | elapsed:   33.8s\n",
      "[Parallel(n_jobs=12)]: Done 2428 tasks      | elapsed:  1.0min\n",
      "[Parallel(n_jobs=12)]: Done 3010 tasks      | elapsed:  1.4min\n",
      "[Parallel(n_jobs=12)]: Done 3660 tasks      | elapsed:  1.8min\n",
      "[Parallel(n_jobs=12)]: Done 4410 tasks      | elapsed:  2.4min\n",
      "[Parallel(n_jobs=12)]: Done 5260 tasks      | elapsed:  3.1min\n",
      "[Parallel(n_jobs=12)]: Done 6210 tasks      | elapsed:  4.0min\n",
      "[Parallel(n_jobs=12)]: Done 7260 tasks      | elapsed:  5.0min\n",
      "[Parallel(n_jobs=12)]: Done 8000 out of 8000 | elapsed:  5.8min finished\n"
     ]
    },
    {
     "name": "stdout",
     "output_type": "stream",
     "text": [
      "Wall time: 5min 48s\n",
      "{'C': 1.0, 'epsilon': 0.0021842105263157894, 'gamma': 0.03747368421052632} -0.03556332827967928\n",
      "Fitting 1 folds for each of 8000 candidates, totalling 8000 fits\n"
     ]
    },
    {
     "name": "stderr",
     "output_type": "stream",
     "text": [
      "[Parallel(n_jobs=12)]: Using backend LokyBackend with 12 concurrent workers.\n",
      "[Parallel(n_jobs=12)]: Done  28 tasks      | elapsed:    0.8s\n",
      "[Parallel(n_jobs=12)]: Done 328 tasks      | elapsed:    5.7s\n",
      "[Parallel(n_jobs=12)]: Done 828 tasks      | elapsed:   15.8s\n",
      "[Parallel(n_jobs=12)]: Done 1528 tasks      | elapsed:   33.2s\n",
      "[Parallel(n_jobs=12)]: Done 2428 tasks      | elapsed:  1.0min\n",
      "[Parallel(n_jobs=12)]: Done 3010 tasks      | elapsed:  1.4min\n",
      "[Parallel(n_jobs=12)]: Done 3660 tasks      | elapsed:  1.8min\n",
      "[Parallel(n_jobs=12)]: Done 4410 tasks      | elapsed:  2.4min\n",
      "[Parallel(n_jobs=12)]: Done 5260 tasks      | elapsed:  3.1min\n",
      "[Parallel(n_jobs=12)]: Done 6210 tasks      | elapsed:  3.9min\n",
      "[Parallel(n_jobs=12)]: Done 7260 tasks      | elapsed:  4.9min\n",
      "[Parallel(n_jobs=12)]: Done 8000 out of 8000 | elapsed:  5.7min finished\n"
     ]
    },
    {
     "name": "stdout",
     "output_type": "stream",
     "text": [
      "Wall time: 5min 43s\n",
      "{'C': 6.2105263157894735, 'epsilon': 0.0006210526315789474, 'gamma': 0.01663157894736842} -0.03593469652284178\n",
      "Fitting 1 folds for each of 8000 candidates, totalling 8000 fits\n"
     ]
    },
    {
     "name": "stderr",
     "output_type": "stream",
     "text": [
      "[Parallel(n_jobs=12)]: Using backend LokyBackend with 12 concurrent workers.\n",
      "[Parallel(n_jobs=12)]: Done  28 tasks      | elapsed:    0.8s\n",
      "[Parallel(n_jobs=12)]: Done 328 tasks      | elapsed:    5.5s\n",
      "[Parallel(n_jobs=12)]: Done 828 tasks      | elapsed:   15.3s\n",
      "[Parallel(n_jobs=12)]: Done 1528 tasks      | elapsed:   33.1s\n",
      "[Parallel(n_jobs=12)]: Done 2428 tasks      | elapsed:  1.0min\n",
      "[Parallel(n_jobs=12)]: Done 3210 tasks      | elapsed:  1.5min\n",
      "[Parallel(n_jobs=12)]: Done 3860 tasks      | elapsed:  1.9min\n",
      "[Parallel(n_jobs=12)]: Done 4610 tasks      | elapsed:  2.5min\n",
      "[Parallel(n_jobs=12)]: Done 5460 tasks      | elapsed:  3.2min\n",
      "[Parallel(n_jobs=12)]: Done 6410 tasks      | elapsed:  4.0min\n",
      "[Parallel(n_jobs=12)]: Done 7460 tasks      | elapsed:  5.1min\n",
      "[Parallel(n_jobs=12)]: Done 8000 out of 8000 | elapsed:  5.6min finished\n",
      "[Parallel(n_jobs=12)]: Using backend LokyBackend with 12 concurrent workers.\n"
     ]
    },
    {
     "name": "stdout",
     "output_type": "stream",
     "text": [
      "Wall time: 5min 36s\n",
      "{'C': 1.0, 'epsilon': 0.004789473684210527, 'gamma': 0.06873684210526315} -0.03693100181806052\n",
      "Fitting 1 folds for each of 8000 candidates, totalling 8000 fits\n"
     ]
    },
    {
     "name": "stderr",
     "output_type": "stream",
     "text": [
      "[Parallel(n_jobs=12)]: Done  28 tasks      | elapsed:    0.8s\n",
      "[Parallel(n_jobs=12)]: Done 328 tasks      | elapsed:    5.6s\n",
      "[Parallel(n_jobs=12)]: Done 828 tasks      | elapsed:   15.5s\n",
      "[Parallel(n_jobs=12)]: Done 1528 tasks      | elapsed:   32.8s\n",
      "[Parallel(n_jobs=12)]: Done 2428 tasks      | elapsed:  1.0min\n",
      "[Parallel(n_jobs=12)]: Done 3010 tasks      | elapsed:  1.4min\n",
      "[Parallel(n_jobs=12)]: Done 3660 tasks      | elapsed:  1.8min\n",
      "[Parallel(n_jobs=12)]: Done 4410 tasks      | elapsed:  2.3min\n",
      "[Parallel(n_jobs=12)]: Done 5260 tasks      | elapsed:  3.0min\n",
      "[Parallel(n_jobs=12)]: Done 6210 tasks      | elapsed:  3.9min\n",
      "[Parallel(n_jobs=12)]: Done 7260 tasks      | elapsed:  4.9min\n",
      "[Parallel(n_jobs=12)]: Done 8000 out of 8000 | elapsed:  5.7min finished\n"
     ]
    },
    {
     "name": "stdout",
     "output_type": "stream",
     "text": [
      "Wall time: 5min 40s\n",
      "{'C': 6.2105263157894735, 'epsilon': 0.004268421052631579, 'gamma': 0.01663157894736842} -0.03765432962147253\n"
     ]
    }
   ],
   "source": [
    "import warnings\n",
    "warnings.filterwarnings('ignore')\n",
    "param_grid = {'C': np.linspace(1,100,20),\n",
    "              'gamma': np.linspace(0.001,0.1,20), \n",
    "              'epsilon':np.linspace(0.0001,0.01,20),\n",
    "              }\n",
    "for leadtime in range(1,11):\n",
    "    X,y = Preparation(data=data,Qlag=[1,4],Rlag=range(1,7),reanalysis=reanalysis,isreanalysis=True,leadtime=leadtime)\n",
    "    scalemodely = MinMaxScaler().fit(np.array(y).reshape(-1, 1)) \n",
    "    scalemodelx = MinMaxScaler().fit(X)\n",
    "    y_scale = scalemodely.transform(np.array(y).reshape(-1, 1))\n",
    "    X_scale = scalemodelx.transform(X)\n",
    "    X_train, X_test, y_train, y_test = train_test_split(X_scale,y_scale,test_size=730,shuffle=False)\n",
    "    length = X_train.shape[0]\n",
    "    tscv = [([_ for _ in range(length-731)],[_ for _ in range(length-731,length)]) for i in range(1)]\n",
    "    est = SVR() \n",
    "    %time gs_cv = GridSearchCV(est, param_grid, scoring=make_scorer(mae,greater_is_better=False),\\\n",
    "                               cv = tscv ,n_jobs=12,verbose=1).fit(X_train,y_train)\n",
    "    with open('svr_para%d.pickle'%(leadtime), 'wb') as f:\n",
    "        pickle.dump(gs_cv,f)\n",
    "    print(gs_cv.best_params_,gs_cv.best_score_)"
   ]
  },
  {
   "cell_type": "code",
   "execution_count": 13,
   "metadata": {},
   "outputs": [
    {
     "data": {
      "text/html": [
       "<div>\n",
       "<style scoped>\n",
       "    .dataframe tbody tr th:only-of-type {\n",
       "        vertical-align: middle;\n",
       "    }\n",
       "\n",
       "    .dataframe tbody tr th {\n",
       "        vertical-align: top;\n",
       "    }\n",
       "\n",
       "    .dataframe thead th {\n",
       "        text-align: right;\n",
       "    }\n",
       "</style>\n",
       "<table border=\"1\" class=\"dataframe\">\n",
       "  <thead>\n",
       "    <tr style=\"text-align: right;\">\n",
       "      <th></th>\n",
       "      <th>0</th>\n",
       "      <th>1</th>\n",
       "      <th>2</th>\n",
       "      <th>3</th>\n",
       "      <th>4</th>\n",
       "      <th>5</th>\n",
       "      <th>6</th>\n",
       "      <th>7</th>\n",
       "      <th>8</th>\n",
       "      <th>9</th>\n",
       "    </tr>\n",
       "  </thead>\n",
       "  <tbody>\n",
       "    <tr>\n",
       "      <td>C</td>\n",
       "      <td>6.2105</td>\n",
       "      <td>1.0000</td>\n",
       "      <td>1.0000</td>\n",
       "      <td>1.0000</td>\n",
       "      <td>11.4211</td>\n",
       "      <td>1.0000</td>\n",
       "      <td>1.0000</td>\n",
       "      <td>6.2105</td>\n",
       "      <td>1.0000</td>\n",
       "      <td>6.2105</td>\n",
       "    </tr>\n",
       "    <tr>\n",
       "      <td>epsilon</td>\n",
       "      <td>0.0069</td>\n",
       "      <td>0.0084</td>\n",
       "      <td>0.0017</td>\n",
       "      <td>0.0079</td>\n",
       "      <td>0.0017</td>\n",
       "      <td>0.0001</td>\n",
       "      <td>0.0022</td>\n",
       "      <td>0.0006</td>\n",
       "      <td>0.0048</td>\n",
       "      <td>0.0043</td>\n",
       "    </tr>\n",
       "    <tr>\n",
       "      <td>gamma</td>\n",
       "      <td>0.0323</td>\n",
       "      <td>0.0583</td>\n",
       "      <td>0.0844</td>\n",
       "      <td>0.0271</td>\n",
       "      <td>0.0062</td>\n",
       "      <td>0.0218</td>\n",
       "      <td>0.0375</td>\n",
       "      <td>0.0166</td>\n",
       "      <td>0.0687</td>\n",
       "      <td>0.0166</td>\n",
       "    </tr>\n",
       "  </tbody>\n",
       "</table>\n",
       "</div>"
      ],
      "text/plain": [
       "              0       1       2       3        4       5       6       7  \\\n",
       "C        6.2105  1.0000  1.0000  1.0000  11.4211  1.0000  1.0000  6.2105   \n",
       "epsilon  0.0069  0.0084  0.0017  0.0079   0.0017  0.0001  0.0022  0.0006   \n",
       "gamma    0.0323  0.0583  0.0844  0.0271   0.0062  0.0218  0.0375  0.0166   \n",
       "\n",
       "              8       9  \n",
       "C        1.0000  6.2105  \n",
       "epsilon  0.0048  0.0043  \n",
       "gamma    0.0687  0.0166  "
      ]
     },
     "execution_count": 13,
     "metadata": {},
     "output_type": "execute_result"
    }
   ],
   "source": [
    "# show parameters of SVR\n",
    "C = []\n",
    "epsilon = []\n",
    "gamma = []\n",
    "for leadtime in range(1,11):\n",
    "    with open('svr_para%d.pickle'%(leadtime), 'rb') as f:\n",
    "        gs_cv = pickle.load(f)\n",
    "#         print(gs_cv.best_params_, gs_cv.best_score_)\n",
    "        C.append(gs_cv.best_params_['C'])\n",
    "        epsilon.append(gs_cv.best_params_['epsilon'])\n",
    "        gamma.append(gs_cv.best_params_['gamma'])\n",
    "dfpara = pd.DataFrame({'C':C,'epsilon':epsilon,'gamma':gamma})\n",
    "dfpara.applymap(lambda x: '%.4f'%x).T"
   ]
  },
  {
   "cell_type": "markdown",
   "metadata": {},
   "source": [
    "# ANN参数率定"
   ]
  },
  {
   "cell_type": "code",
   "execution_count": 32,
   "metadata": {},
   "outputs": [],
   "source": [
    "from sklearn.neural_network import MLPRegressor"
   ]
  },
  {
   "cell_type": "code",
   "execution_count": 35,
   "metadata": {},
   "outputs": [
    {
     "name": "stderr",
     "output_type": "stream",
     "text": [
      "[Parallel(n_jobs=12)]: Using backend LokyBackend with 12 concurrent workers.\n"
     ]
    },
    {
     "name": "stdout",
     "output_type": "stream",
     "text": [
      "Fitting 50 folds for each of 76 candidates, totalling 3800 fits\n"
     ]
    },
    {
     "name": "stderr",
     "output_type": "stream",
     "text": [
      "[Parallel(n_jobs=12)]: Done  36 tasks      | elapsed:    0.8s\n",
      "[Parallel(n_jobs=12)]: Done 798 tasks      | elapsed:    9.9s\n",
      "[Parallel(n_jobs=12)]: Done 1548 tasks      | elapsed:   23.4s\n",
      "[Parallel(n_jobs=12)]: Done 1954 tasks      | elapsed:   36.8s\n",
      "[Parallel(n_jobs=12)]: Done 2404 tasks      | elapsed:   44.1s\n",
      "[Parallel(n_jobs=12)]: Done 2954 tasks      | elapsed:   56.9s\n",
      "[Parallel(n_jobs=12)]: Done 3604 tasks      | elapsed:  1.5min\n",
      "[Parallel(n_jobs=12)]: Done 3800 out of 3800 | elapsed:  1.8min finished\n",
      "[Parallel(n_jobs=12)]: Using backend LokyBackend with 12 concurrent workers.\n"
     ]
    },
    {
     "name": "stdout",
     "output_type": "stream",
     "text": [
      "Wall time: 1min 47s\n",
      "{'activation': 'tanh', 'hidden_layer_sizes': (5,)} -0.02206226524030604\n",
      "Fitting 50 folds for each of 76 candidates, totalling 3800 fits\n"
     ]
    },
    {
     "name": "stderr",
     "output_type": "stream",
     "text": [
      "[Parallel(n_jobs=12)]: Done  32 tasks      | elapsed:    0.6s\n",
      "[Parallel(n_jobs=12)]: Done 632 tasks      | elapsed:    6.9s\n",
      "[Parallel(n_jobs=12)]: Done 1466 tasks      | elapsed:   22.6s\n",
      "[Parallel(n_jobs=12)]: Done 1816 tasks      | elapsed:   41.2s\n",
      "[Parallel(n_jobs=12)]: Done 2266 tasks      | elapsed:   55.5s\n",
      "[Parallel(n_jobs=12)]: Done 2816 tasks      | elapsed:  1.2min\n",
      "[Parallel(n_jobs=12)]: Done 3466 tasks      | elapsed:  2.0min\n",
      "[Parallel(n_jobs=12)]: Done 3800 out of 3800 | elapsed:  3.3min finished\n"
     ]
    },
    {
     "name": "stdout",
     "output_type": "stream",
     "text": [
      "Wall time: 3min 16s\n",
      "{'activation': 'tanh', 'hidden_layer_sizes': (3,)} -0.02774835074111245\n",
      "Fitting 50 folds for each of 76 candidates, totalling 3800 fits\n"
     ]
    },
    {
     "name": "stderr",
     "output_type": "stream",
     "text": [
      "[Parallel(n_jobs=12)]: Using backend LokyBackend with 12 concurrent workers.\n",
      "[Parallel(n_jobs=12)]: Done  36 tasks      | elapsed:    0.9s\n",
      "[Parallel(n_jobs=12)]: Done 750 tasks      | elapsed:   11.6s\n",
      "[Parallel(n_jobs=12)]: Done 1370 tasks      | elapsed:   26.5s\n",
      "[Parallel(n_jobs=12)]: Done 1720 tasks      | elapsed:   46.8s\n",
      "[Parallel(n_jobs=12)]: Done 2170 tasks      | elapsed:  1.2min\n",
      "[Parallel(n_jobs=12)]: Done 2720 tasks      | elapsed:  1.6min\n",
      "[Parallel(n_jobs=12)]: Done 3370 tasks      | elapsed:  2.6min\n",
      "[Parallel(n_jobs=12)]: Done 3800 out of 3800 | elapsed:  4.8min finished\n",
      "[Parallel(n_jobs=12)]: Using backend LokyBackend with 12 concurrent workers.\n"
     ]
    },
    {
     "name": "stdout",
     "output_type": "stream",
     "text": [
      "Wall time: 4min 50s\n",
      "{'activation': 'logistic', 'hidden_layer_sizes': (2,)} -0.03139300817208598\n",
      "Fitting 50 folds for each of 76 candidates, totalling 3800 fits\n"
     ]
    },
    {
     "name": "stderr",
     "output_type": "stream",
     "text": [
      "[Parallel(n_jobs=12)]: Done  36 tasks      | elapsed:    1.0s\n",
      "[Parallel(n_jobs=12)]: Done 663 tasks      | elapsed:   11.7s\n",
      "[Parallel(n_jobs=12)]: Done 1037 tasks      | elapsed:   21.4s\n",
      "[Parallel(n_jobs=12)]: Done 1387 tasks      | elapsed:   32.8s\n",
      "[Parallel(n_jobs=12)]: Done 1837 tasks      | elapsed:  1.1min\n",
      "[Parallel(n_jobs=12)]: Done 2387 tasks      | elapsed:  1.7min\n",
      "[Parallel(n_jobs=12)]: Done 3037 tasks      | elapsed:  2.7min\n",
      "[Parallel(n_jobs=12)]: Done 3800 out of 3800 | elapsed:  6.3min finished\n",
      "[Parallel(n_jobs=12)]: Using backend LokyBackend with 12 concurrent workers.\n"
     ]
    },
    {
     "name": "stdout",
     "output_type": "stream",
     "text": [
      "Wall time: 6min 19s\n",
      "{'activation': 'logistic', 'hidden_layer_sizes': (2,)} -0.034360577212713905\n",
      "Fitting 50 folds for each of 76 candidates, totalling 3800 fits\n"
     ]
    },
    {
     "name": "stderr",
     "output_type": "stream",
     "text": [
      "[Parallel(n_jobs=12)]: Done  28 tasks      | elapsed:    0.7s\n",
      "[Parallel(n_jobs=12)]: Done 328 tasks      | elapsed:    5.9s\n",
      "[Parallel(n_jobs=12)]: Done 828 tasks      | elapsed:   21.5s\n",
      "[Parallel(n_jobs=12)]: Done 1202 tasks      | elapsed:   31.7s\n",
      "[Parallel(n_jobs=12)]: Done 1652 tasks      | elapsed:   59.2s\n",
      "[Parallel(n_jobs=12)]: Done 2202 tasks      | elapsed:  1.8min\n",
      "[Parallel(n_jobs=12)]: Done 2852 tasks      | elapsed:  3.9min\n",
      "[Parallel(n_jobs=12)]: Done 3602 tasks      | elapsed:  6.7min\n",
      "[Parallel(n_jobs=12)]: Done 3800 out of 3800 | elapsed:  8.5min finished\n",
      "[Parallel(n_jobs=12)]: Using backend LokyBackend with 12 concurrent workers.\n"
     ]
    },
    {
     "name": "stdout",
     "output_type": "stream",
     "text": [
      "Wall time: 8min 28s\n",
      "{'activation': 'logistic', 'hidden_layer_sizes': (2,)} -0.03601524192005468\n",
      "Fitting 50 folds for each of 76 candidates, totalling 3800 fits\n"
     ]
    },
    {
     "name": "stderr",
     "output_type": "stream",
     "text": [
      "[Parallel(n_jobs=12)]: Done  28 tasks      | elapsed:    0.7s\n",
      "[Parallel(n_jobs=12)]: Done 328 tasks      | elapsed:    5.7s\n",
      "[Parallel(n_jobs=12)]: Done 828 tasks      | elapsed:   19.2s\n",
      "[Parallel(n_jobs=12)]: Done 1401 tasks      | elapsed:   38.1s\n",
      "[Parallel(n_jobs=12)]: Done 1851 tasks      | elapsed:  1.3min\n",
      "[Parallel(n_jobs=12)]: Done 2401 tasks      | elapsed:  2.4min\n",
      "[Parallel(n_jobs=12)]: Done 3051 tasks      | elapsed:  4.4min\n",
      "[Parallel(n_jobs=12)]: Done 3800 out of 3800 | elapsed:  8.2min finished\n",
      "[Parallel(n_jobs=12)]: Using backend LokyBackend with 12 concurrent workers.\n"
     ]
    },
    {
     "name": "stdout",
     "output_type": "stream",
     "text": [
      "Wall time: 8min 11s\n",
      "{'activation': 'logistic', 'hidden_layer_sizes': (2,)} -0.038458861248601345\n",
      "Fitting 50 folds for each of 76 candidates, totalling 3800 fits\n"
     ]
    },
    {
     "name": "stderr",
     "output_type": "stream",
     "text": [
      "[Parallel(n_jobs=12)]: Done  32 tasks      | elapsed:    0.7s\n",
      "[Parallel(n_jobs=12)]: Done 632 tasks      | elapsed:   10.4s\n",
      "[Parallel(n_jobs=12)]: Done 1192 tasks      | elapsed:   21.8s\n",
      "[Parallel(n_jobs=12)]: Done 1631 tasks      | elapsed:   45.3s\n",
      "[Parallel(n_jobs=12)]: Done 2081 tasks      | elapsed:  1.4min\n",
      "[Parallel(n_jobs=12)]: Done 2631 tasks      | elapsed:  3.1min\n",
      "[Parallel(n_jobs=12)]: Done 3281 tasks      | elapsed:  5.2min\n",
      "[Parallel(n_jobs=12)]: Done 3800 out of 3800 | elapsed:  8.4min finished\n",
      "[Parallel(n_jobs=12)]: Using backend LokyBackend with 12 concurrent workers.\n"
     ]
    },
    {
     "name": "stdout",
     "output_type": "stream",
     "text": [
      "Wall time: 8min 26s\n",
      "{'activation': 'logistic', 'hidden_layer_sizes': (2,)} -0.039964740360519606\n",
      "Fitting 50 folds for each of 76 candidates, totalling 3800 fits\n"
     ]
    },
    {
     "name": "stderr",
     "output_type": "stream",
     "text": [
      "[Parallel(n_jobs=12)]: Done  36 tasks      | elapsed:    0.7s\n",
      "[Parallel(n_jobs=12)]: Done 747 tasks      | elapsed:   10.8s\n",
      "[Parallel(n_jobs=12)]: Done 1337 tasks      | elapsed:   25.6s\n",
      "[Parallel(n_jobs=12)]: Done 1687 tasks      | elapsed:   48.4s\n",
      "[Parallel(n_jobs=12)]: Done 2137 tasks      | elapsed:  1.5min\n",
      "[Parallel(n_jobs=12)]: Done 2687 tasks      | elapsed:  3.6min\n",
      "[Parallel(n_jobs=12)]: Done 3337 tasks      | elapsed:  5.8min\n",
      "[Parallel(n_jobs=12)]: Done 3800 out of 3800 | elapsed:  8.8min finished\n",
      "[Parallel(n_jobs=12)]: Using backend LokyBackend with 12 concurrent workers.\n"
     ]
    },
    {
     "name": "stdout",
     "output_type": "stream",
     "text": [
      "Wall time: 8min 49s\n",
      "{'activation': 'logistic', 'hidden_layer_sizes': (2,)} -0.04038546211359115\n",
      "Fitting 50 folds for each of 76 candidates, totalling 3800 fits\n"
     ]
    },
    {
     "name": "stderr",
     "output_type": "stream",
     "text": [
      "[Parallel(n_jobs=12)]: Done  36 tasks      | elapsed:    0.9s\n",
      "[Parallel(n_jobs=12)]: Done 738 tasks      | elapsed:   11.3s\n",
      "[Parallel(n_jobs=12)]: Done 1304 tasks      | elapsed:   25.1s\n",
      "[Parallel(n_jobs=12)]: Done 1654 tasks      | elapsed:   51.6s\n",
      "[Parallel(n_jobs=12)]: Done 2104 tasks      | elapsed:  1.7min\n",
      "[Parallel(n_jobs=12)]: Done 2654 tasks      | elapsed:  4.0min\n",
      "[Parallel(n_jobs=12)]: Done 3304 tasks      | elapsed:  6.5min\n",
      "[Parallel(n_jobs=12)]: Done 3800 out of 3800 | elapsed: 10.6min finished\n",
      "[Parallel(n_jobs=12)]: Using backend LokyBackend with 12 concurrent workers.\n"
     ]
    },
    {
     "name": "stdout",
     "output_type": "stream",
     "text": [
      "Wall time: 10min 37s\n",
      "{'activation': 'logistic', 'hidden_layer_sizes': (2,)} -0.04168372037740585\n",
      "Fitting 50 folds for each of 76 candidates, totalling 3800 fits\n"
     ]
    },
    {
     "name": "stderr",
     "output_type": "stream",
     "text": [
      "[Parallel(n_jobs=12)]: Done  36 tasks      | elapsed:    1.2s\n",
      "[Parallel(n_jobs=12)]: Done 612 tasks      | elapsed:   11.1s\n",
      "[Parallel(n_jobs=12)]: Done 1076 tasks      | elapsed:   21.8s\n",
      "[Parallel(n_jobs=12)]: Done 1426 tasks      | elapsed:   36.2s\n",
      "[Parallel(n_jobs=12)]: Done 1876 tasks      | elapsed:  1.4min\n",
      "[Parallel(n_jobs=12)]: Done 2426 tasks      | elapsed:  3.0min\n",
      "[Parallel(n_jobs=12)]: Done 3076 tasks      | elapsed:  5.9min\n"
     ]
    },
    {
     "name": "stdout",
     "output_type": "stream",
     "text": [
      "Wall time: 10min 50s\n",
      "{'activation': 'tanh', 'hidden_layer_sizes': (2,)} -0.04236489193413391\n"
     ]
    },
    {
     "name": "stderr",
     "output_type": "stream",
     "text": [
      "[Parallel(n_jobs=12)]: Done 3800 out of 3800 | elapsed: 10.8min finished\n"
     ]
    }
   ],
   "source": [
    "param_grid = {'hidden_layer_sizes': [(_,) for _ in range(2,21,1)],\n",
    "              'activation': ['identity','relu','logistic','tanh']\n",
    "              }\n",
    "for leadtime in range(1,11):\n",
    "    X,y = Preparation(data=data,Qlag=[1,4],Rlag=range(1,7),reanalysis=reanalysis,isreanalysis=True,leadtime=leadtime)\n",
    "    scalemodely = MinMaxScaler().fit(np.array(y).reshape(-1, 1)) \n",
    "    scalemodelx = MinMaxScaler().fit(X)\n",
    "    y_scale = scalemodely.transform(np.array(y).reshape(-1, 1))\n",
    "    X_scale = scalemodelx.transform(X)\n",
    "    X_train, X_test, y_train, y_test = train_test_split(X_scale,y_scale,test_size=730,shuffle=False)\n",
    "    length = X_train.shape[0]\n",
    "    tscv = [([_ for _ in range(length-731)],[_ for _ in range(length-731,length)]) for i in range(itera)]\n",
    "    est = MLPRegressor(solver='lbfgs', alpha=0.0001,batch_size='auto', \n",
    "                             learning_rate='constant',learning_rate_init=0.001, power_t=0.5,max_iter=3000, shuffle=True, \n",
    "                             random_state=None,tol=1e-5, verbose=False, warm_start=False,momentum=0.9, \n",
    "                             nesterovs_momentum=True,early_stopping=True, validation_fraction=0.1,beta_1=0.9, \n",
    "                             beta_2=0.999, epsilon=1e-08,n_iter_no_change=10) \n",
    "    %time gs_cv = GridSearchCV(est, param_grid, scoring=make_scorer(mae,greater_is_better=False),\\\n",
    "                               cv = tscv ,n_jobs=12,verbose=1).fit(X_train,y_train)\n",
    "    with open('ann_para%d.pickle'%(leadtime), 'wb') as f:\n",
    "        pickle.dump(gs_cv,f)\n",
    "    print(gs_cv.best_params_,gs_cv.best_score_)"
   ]
  },
  {
   "cell_type": "code",
   "execution_count": 142,
   "metadata": {
    "scrolled": true
   },
   "outputs": [],
   "source": [
    "names = locals()\n",
    "for leadtime in range(1,11):\n",
    "    with open('ann_para%d.pickle'%(leadtime), 'rb') as f:\n",
    "        gs_cv = pickle.load(f)\n",
    "    para_result = pd.DataFrame.from_dict(gs_cv.cv_results_)\n",
    "    col = ['param_activation', 'param_hidden_layer_sizes']+['split%d_test_score'%__ for __ in range(itera)]\n",
    "    para_result = para_result[col]\n",
    "    \n",
    "    para_result.param_hidden_layer_sizes = para_result.param_hidden_layer_sizes.apply(lambda x:int(x[0]))\n",
    "    para_result = para_result.set_index(['param_activation', 'param_hidden_layer_sizes'])\n",
    "    para_result_b = para_result['split0_test_score']\n",
    "    for i in para_result.columns[1:]:\n",
    "        para_result_b = pd.concat([para_result_b,para_result[i]],axis=0)\n",
    "    para_result_b.name = 'MAE'\n",
    "    para_result_b = para_result_b.reset_index()\n",
    "    para_result_b.MAE = para_result_b.MAE.apply(lambda x:-x)\n",
    "    names['para_result%d'%leadtime] = para_result_b"
   ]
  },
  {
   "cell_type": "markdown",
   "metadata": {},
   "source": [
    "## 绘图数据（无缩放） "
   ]
  },
  {
   "cell_type": "code",
   "execution_count": 20,
   "metadata": {},
   "outputs": [
    {
     "name": "stdout",
     "output_type": "stream",
     "text": [
      "1 / 10\n",
      "2 / 10\n",
      "3 / 10\n",
      "4 / 10\n",
      "5 / 10\n",
      "6 / 10\n",
      "7 / 10\n",
      "8 / 10\n",
      "9 / 10\n",
      "10 / 10\n",
      "Wall time: 4h 19min 22s\n"
     ]
    }
   ],
   "source": [
    "%%time\n",
    "idx = pd.IndexSlice\n",
    "itera = 50\n",
    "for leadtime in range(1,11):\n",
    "    X, y =  Preparation(data=data,Qlag=[1,4],Rlag=range(1,7),reanalysis=reanalysis,isreanalysis=True,leadtime=leadtime)\n",
    "    scalemodely = MinMaxScaler().fit(np.array(y).reshape(-1, 1)) \n",
    "    scalemodelx = MinMaxScaler().fit(X)\n",
    "    y_scale = scalemodely.transform(np.array(y).reshape(-1, 1))\n",
    "    X_scale = scalemodelx.transform(X)\n",
    "    X_train, X_test, y_train, y_test = train_test_split(X_scale,y_scale,test_size=730,shuffle=False)\n",
    "    X_train_val, X_test_val, y_train_val, y_test_val = train_test_split(X_train,y_train,test_size=731,shuffle=False)\n",
    "    para = pd.DataFrame(columns=pd.MultiIndex.from_product([range(2,21,1),['identity','relu','logistic','tanh'],['train_mae','test_mae']]),index = range(itera))\n",
    "    for node,activation in pd.MultiIndex.from_product([range(2,21,1),['identity','relu','logistic','tanh']]):\n",
    "        model = MLPRegressor(hidden_layer_sizes=(node,), activation=activation, solver='lbfgs', alpha=0.0001,batch_size='auto', \n",
    "                             learning_rate='constant',learning_rate_init=0.001, power_t=0.5,max_iter=3000, shuffle=True, \n",
    "                             random_state=None,tol=1e-5, verbose=False, warm_start=False,momentum=0.9, \n",
    "                             nesterovs_momentum=True,early_stopping=True, validation_fraction=0.1,beta_1=0.9, \n",
    "                             beta_2=0.999, epsilon=1e-08,n_iter_no_change=10)\n",
    "        train_mae = []\n",
    "        test_mae = []\n",
    "        for i in range(itera): # 优选模型参数时，不能使用测试集\n",
    "            model.fit(X_train_val,y_train_val.ravel())\n",
    "            y_fit = model.predict(X_train_val)\n",
    "            y_fit_val = model.predict(X_test_val)\n",
    "            y_train_val_,y_test_val_,y_fit_,y_fit_val_ = scalemodely.inverse_transform(y_train_val.reshape(-1, 1)),\\\n",
    "            scalemodely.inverse_transform(y_test_val.reshape(-1, 1)),\\\n",
    "            scalemodely.inverse_transform(y_fit.reshape(-1, 1)),scalemodely.inverse_transform(y_fit_val.reshape(-1, 1))\n",
    "            para.loc[i,idx[[node],activation,:]] = [mae(y_train_val_,y_fit_),mae(y_test_val_,y_fit_val_)]           \n",
    "    para.to_csv('leadtime%d_lbfgs_self.csv'%leadtime)\n",
    "    print(leadtime,'/','10')"
   ]
  },
  {
   "cell_type": "code",
   "execution_count": 5,
   "metadata": {},
   "outputs": [
    {
     "data": {
      "text/plain": [
       "[('4', 'tanh'),\n",
       " ('2', 'tanh'),\n",
       " ('3', 'logistic'),\n",
       " ('2', 'logistic'),\n",
       " ('2', 'logistic'),\n",
       " ('2', 'logistic'),\n",
       " ('2', 'logistic'),\n",
       " ('2', 'logistic'),\n",
       " ('2', 'tanh'),\n",
       " ('2', 'tanh')]"
      ]
     },
     "execution_count": 5,
     "metadata": {},
     "output_type": "execute_result"
    }
   ],
   "source": [
    "# 查看最优化参数\n",
    "ANNpara = []\n",
    "for leadtime in range(1,11):\n",
    "    idx = pd.IndexSlice\n",
    "    para = pd.read_csv('leadtime%d_lbfgs_self.csv' % leadtime, index_col=0, header=[0, 1, 2])\n",
    "    temp = para.loc[:,idx[:,:,'test_mae']].median().idxmin()\n",
    "    ANNpara.append((temp[0],temp[1]))\n",
    "ANNpara"
   ]
  },
  {
   "cell_type": "code",
   "execution_count": 13,
   "metadata": {},
   "outputs": [
    {
     "name": "stdout",
     "output_type": "stream",
     "text": [
      "           MAE Activation function  Number of nodes\n",
      "0   252.626762            logistic                2\n",
      "1   237.673118            logistic                2\n",
      "2   251.717471            logistic                2\n",
      "3   275.693547            logistic                2\n",
      "4   237.532637            logistic                2\n",
      "..         ...                 ...              ...\n",
      "43  266.161492                relu               20\n",
      "44  252.380132                relu               20\n",
      "45  311.959613                relu               20\n",
      "46  301.189295                relu               20\n",
      "47  330.105039                relu               20\n",
      "\n",
      "[3648 rows x 3 columns]\n"
     ]
    },
    {
     "data": {
      "image/png": "[encoded data removed]",
      "text/plain": [
       "<Figure size 466.56x162 with 2 Axes>"
      ]
     },
     "metadata": {
      "needs_background": "light"
     },
     "output_type": "display_data"
    }
   ],
   "source": [
    "import pandas as pd\n",
    "import numpy as np\n",
    "import seaborn as sns\n",
    "import matplotlib.pyplot as plt\n",
    "import seaborn as sns\n",
    "# sns.set(style=\"whitegrid\")\n",
    "from matplotlib import rcParams\n",
    "rcParams.update({'font.size': 7})\n",
    "rcParams['font.sans-serif'] = 'Times New Roman'\n",
    "paralegend = {'title':None,'frameon':None,'handlelength':3,'handletextpad':1.5,'borderpad':0.8}\n",
    "# 读取数据\n",
    "def readdata(leadtime):\n",
    "    para = pd.read_csv('leadtime%d_lbfgs_self.csv' % leadtime, index_col=0, header=[0, 1, 2])\n",
    "\n",
    "    idx = pd.IndexSlice\n",
    "    logistic_test_mae = para.loc[:, idx[:, ['logistic'], 'test_mae']]\n",
    "    tanh_test_mae = para.loc[:, idx[:, ['tanh'], 'test_mae']]\n",
    "    identity_test_mae = para.loc[:, idx[:, ['identity'], 'test_mae']]\n",
    "    relu_test_mae = para.loc[:, idx[:, ['relu'], 'test_mae']]\n",
    "    logistic_test_mae.columns = range(2, 21, 1)\n",
    "    tanh_test_mae.columns = range(2, 21, 1)\n",
    "    identity_test_mae.columns = range(2, 21, 1)\n",
    "    relu_test_mae.columns = range(2, 21, 1)\n",
    "    df = None\n",
    "    for i in logistic_test_mae:\n",
    "        df_temp = pd.DataFrame(logistic_test_mae[i].iloc[:-2].values, columns=['MAE'])\n",
    "        df_temp['Activation function'] = ['logistic' for k in range(df_temp.shape[0])]\n",
    "        df_temp['Number of nodes'] = [i for k in range(df_temp.shape[0])]\n",
    "\n",
    "        df_temp1 = pd.DataFrame(tanh_test_mae[i].iloc[:-2].values, columns=['MAE'])\n",
    "        df_temp1['Activation function'] = ['tanh' for k in range(df_temp1.shape[0])]\n",
    "        df_temp1['Number of nodes'] = [i for k in range(df_temp1.shape[0])]\n",
    "\n",
    "        df_temp2 = pd.DataFrame(identity_test_mae[i].iloc[:-2].values, columns=['MAE'])\n",
    "\n",
    "        df_temp2['Activation function'] = ['identity' for k in range(df_temp2.shape[0])]\n",
    "        df_temp2['Number of nodes'] = [i for k in range(df_temp2.shape[0])]\n",
    "\n",
    "        df_temp3 = pd.DataFrame(relu_test_mae[i].iloc[:-2].values, columns=['MAE'])\n",
    "        df_temp3['Activation function'] = ['relu' for k in range(df_temp3.shape[0])]\n",
    "        df_temp3['Number of nodes'] = [i for k in range(df_temp3.shape[0])]\n",
    "        if df is None:\n",
    "            df = pd.concat([df_temp, df_temp1, df_temp2, df_temp3], axis=0)\n",
    "        else:\n",
    "            df = pd.concat([df, df_temp, df_temp1, df_temp2, df_temp3], axis=0)\n",
    "    df['MAE'] = df['MAE'].astype('float')\n",
    "    return df\n",
    "\n",
    "df = readdata(10)\n",
    "df2 = readdata(1)\n",
    "print(df)\n",
    "'''\n",
    "plt.figure(figsize=(7.48,16.25))\n",
    "for leadtime in range(1,11):\n",
    "    plt.subplot(5, 2, leadtime)\n",
    "    #图（a）\n",
    "    sns.lineplot(x=\"Number of nodes\", y=\"MAE\", hue=\"Activation function\", style=\"Activation function\",\n",
    "                       data=readdata(leadtime),markers=True,markersize=5, dashes=False)\n",
    "    plt.legend(['logistic','tanh','identity','relu'],loc=(0.4,0.4),**paralegend)\n",
    "    # plt.text(x=0.05, y=0.95, s='(a)', transform=ax1.transAxes)\n",
    "    # ax1.set_ylim(100,300)\n",
    "    # ax1.set_yticks(np.linspace(100,300,5))\n",
    "    # plt.xticks(range(2, 21, 1))\n",
    "    plt.ylabel('MAE (m$^3$/s)',labelpad=0.1)\n",
    "\n",
    "plt.savefig('fig\\ANN_para.tif', dpi=500,bbox_inches = 'tight')\n",
    "plt.show()\n",
    "\n",
    "'''\n",
    "\n",
    "\n",
    "plt.figure(figsize=(6.48,2.25))\n",
    "ax1 = plt.subplot(1, 2, 1)\n",
    "#图（a）\n",
    "ax1 = sns.lineplot(x=\"Number of nodes\", y=\"MAE\", hue=\"Activation function\", style=\"Activation function\", data=df2,\n",
    "                   markers=True,markersize=5, dashes=False)\n",
    "plt.legend(['logistic','tanh','identity','relu'],loc=(0.4,0.4),**paralegend)\n",
    "plt.text(x=0.05, y=0.95, s='(a)', transform=ax1.transAxes)\n",
    "ax1.set_ylim(100,300)\n",
    "ax1.set_yticks(np.linspace(100,300,5))\n",
    "plt.xticks(range(2, 21, 1))\n",
    "plt.ylabel('MAE (m$^3$/s)',labelpad=0.1)\n",
    "#图（b）\n",
    "ax2 = plt.subplot(1, 2, 2)\n",
    "ax2 = sns.lineplot(x=\"Number of nodes\", y=\"MAE\", hue=\"Activation function\", style=\"Activation function\", data=df,\n",
    "                   markers=True,markersize=5, dashes=False)\n",
    "# print(df[df['Activation function']=='identity'].head())\n",
    "ax2.set_ylim(250,500)\n",
    "ax2.set_yticks(np.linspace(200,500,7))\n",
    "plt.legend(['logistic','tanh','identity','relu'],loc=(0.3,0.54),**paralegend)\n",
    "plt.text(x=0.05, y=0.95, s='(b)', transform=ax2.transAxes)\n",
    "plt.xticks(range(2, 21, 1))\n",
    "plt.ylabel('MAE (m$^3$/s)',labelpad=0.1)\n",
    "\n",
    "plt.subplots_adjust(wspace =0.3)#调整子图间距\n",
    "plt.savefig('fig\\ANN_para.tif', dpi=500,bbox_inches = 'tight')\n",
    "plt.show()"
   ]
  },
  {
   "cell_type": "markdown",
   "metadata": {},
   "source": [
    "# 参数绘图"
   ]
  },
  {
   "cell_type": "code",
   "execution_count": 37,
   "metadata": {},
   "outputs": [
    {
     "data": {
      "text/html": [
       "<div>\n",
       "<style scoped>\n",
       "    .dataframe tbody tr th:only-of-type {\n",
       "        vertical-align: middle;\n",
       "    }\n",
       "\n",
       "    .dataframe tbody tr th {\n",
       "        vertical-align: top;\n",
       "    }\n",
       "\n",
       "    .dataframe thead th {\n",
       "        text-align: right;\n",
       "    }\n",
       "</style>\n",
       "<table border=\"1\" class=\"dataframe\">\n",
       "  <thead>\n",
       "    <tr style=\"text-align: right;\">\n",
       "      <th></th>\n",
       "      <th>param_C</th>\n",
       "      <th>param_epsilon</th>\n",
       "      <th>param_gamma</th>\n",
       "      <th>split0_test_score</th>\n",
       "    </tr>\n",
       "  </thead>\n",
       "  <tbody>\n",
       "    <tr>\n",
       "      <td>0</td>\n",
       "      <td>1</td>\n",
       "      <td>0.0001</td>\n",
       "      <td>0.001</td>\n",
       "      <td>-0.036400</td>\n",
       "    </tr>\n",
       "    <tr>\n",
       "      <td>1</td>\n",
       "      <td>1</td>\n",
       "      <td>0.0001</td>\n",
       "      <td>0.00621053</td>\n",
       "      <td>-0.024505</td>\n",
       "    </tr>\n",
       "    <tr>\n",
       "      <td>2</td>\n",
       "      <td>1</td>\n",
       "      <td>0.0001</td>\n",
       "      <td>0.0114211</td>\n",
       "      <td>-0.023215</td>\n",
       "    </tr>\n",
       "    <tr>\n",
       "      <td>3</td>\n",
       "      <td>1</td>\n",
       "      <td>0.0001</td>\n",
       "      <td>0.0166316</td>\n",
       "      <td>-0.022594</td>\n",
       "    </tr>\n",
       "    <tr>\n",
       "      <td>4</td>\n",
       "      <td>1</td>\n",
       "      <td>0.0001</td>\n",
       "      <td>0.0218421</td>\n",
       "      <td>-0.022237</td>\n",
       "    </tr>\n",
       "    <tr>\n",
       "      <td>...</td>\n",
       "      <td>...</td>\n",
       "      <td>...</td>\n",
       "      <td>...</td>\n",
       "      <td>...</td>\n",
       "    </tr>\n",
       "    <tr>\n",
       "      <td>7995</td>\n",
       "      <td>100</td>\n",
       "      <td>0.01</td>\n",
       "      <td>0.0791579</td>\n",
       "      <td>-0.022452</td>\n",
       "    </tr>\n",
       "    <tr>\n",
       "      <td>7996</td>\n",
       "      <td>100</td>\n",
       "      <td>0.01</td>\n",
       "      <td>0.0843684</td>\n",
       "      <td>-0.022665</td>\n",
       "    </tr>\n",
       "    <tr>\n",
       "      <td>7997</td>\n",
       "      <td>100</td>\n",
       "      <td>0.01</td>\n",
       "      <td>0.0895789</td>\n",
       "      <td>-0.022667</td>\n",
       "    </tr>\n",
       "    <tr>\n",
       "      <td>7998</td>\n",
       "      <td>100</td>\n",
       "      <td>0.01</td>\n",
       "      <td>0.0947895</td>\n",
       "      <td>-0.022908</td>\n",
       "    </tr>\n",
       "    <tr>\n",
       "      <td>7999</td>\n",
       "      <td>100</td>\n",
       "      <td>0.01</td>\n",
       "      <td>0.1</td>\n",
       "      <td>-0.023076</td>\n",
       "    </tr>\n",
       "  </tbody>\n",
       "</table>\n",
       "<p>8000 rows × 4 columns</p>\n",
       "</div>"
      ],
      "text/plain": [
       "     param_C param_epsilon param_gamma  split0_test_score\n",
       "0          1        0.0001       0.001          -0.036400\n",
       "1          1        0.0001  0.00621053          -0.024505\n",
       "2          1        0.0001   0.0114211          -0.023215\n",
       "3          1        0.0001   0.0166316          -0.022594\n",
       "4          1        0.0001   0.0218421          -0.022237\n",
       "...      ...           ...         ...                ...\n",
       "7995     100          0.01   0.0791579          -0.022452\n",
       "7996     100          0.01   0.0843684          -0.022665\n",
       "7997     100          0.01   0.0895789          -0.022667\n",
       "7998     100          0.01   0.0947895          -0.022908\n",
       "7999     100          0.01         0.1          -0.023076\n",
       "\n",
       "[8000 rows x 4 columns]"
      ]
     },
     "execution_count": 37,
     "metadata": {},
     "output_type": "execute_result"
    }
   ],
   "source": [
    "import pickle\n",
    "names = locals()\n",
    "leadtime = 1\n",
    "with open('svr_para%d.pickle'%(leadtime), 'rb') as f:\n",
    "    gs_cv = pickle.load(f)\n",
    "para_result = pd.DataFrame.from_dict(gs_cv.cv_results_)\n",
    "para_result\n",
    "col = ['param_C', 'param_epsilon', 'param_gamma', 'split0_test_score']\n",
    "para_result = para_result[col]\n",
    "para_result\n",
    "# para_result.param_hidden_layer_sizes = para_result.param_hidden_layer_sizes.apply(lambda x:int(x[0]))\n",
    "# para_result = para_result.set_index(['param_activation', 'param_hidden_layer_sizes'])\n",
    "# para_result_b = para_result['split0_test_score']\n",
    "# for i in para_result.columns[1:]:\n",
    "#     para_result_b = pd.concat([para_result_b,para_result[i]],axis=0)\n",
    "# para_result_b.name = 'MAE'\n",
    "# para_result_b = para_result_b.reset_index()\n",
    "# para_result_b.MAE = para_result_b.MAE.apply(lambda x:-x)\n",
    "# names['para_result%d'%leadtime] = para_result_b\n"
   ]
  },
  {
   "cell_type": "code",
   "execution_count": 45,
   "metadata": {},
   "outputs": [],
   "source": [
    "param_C, param_epsilon = np.meshgrid(para_result['param_C'].drop_duplicates(),para_result['param_epsilon'].drop_duplicates())"
   ]
  },
  {
   "cell_type": "code",
   "execution_count": 54,
   "metadata": {},
   "outputs": [],
   "source": [
    "param_gamma,param_gamma = np.meshgrid(para_result['param_gamma'].drop_duplicates(),para_result['param_gamma'].drop_duplicates())"
   ]
  },
  {
   "cell_type": "code",
   "execution_count": 56,
   "metadata": {},
   "outputs": [
    {
     "data": {
      "text/plain": [
       "array([[0.001, 0.006210526315789474, 0.011421052631578946,\n",
       "        0.01663157894736842, 0.021842105263157895, 0.02705263157894737,\n",
       "        0.03226315789473684, 0.03747368421052632, 0.04268421052631579,\n",
       "        0.04789473684210526, 0.05310526315789474, 0.05831578947368421,\n",
       "        0.06352631578947368, 0.06873684210526315, 0.07394736842105264,\n",
       "        0.07915789473684211, 0.08436842105263158, 0.08957894736842105,\n",
       "        0.09478947368421052, 0.1],\n",
       "       [0.001, 0.006210526315789474, 0.011421052631578946,\n",
       "        0.01663157894736842, 0.021842105263157895, 0.02705263157894737,\n",
       "        0.03226315789473684, 0.03747368421052632, 0.04268421052631579,\n",
       "        0.04789473684210526, 0.05310526315789474, 0.05831578947368421,\n",
       "        0.06352631578947368, 0.06873684210526315, 0.07394736842105264,\n",
       "        0.07915789473684211, 0.08436842105263158, 0.08957894736842105,\n",
       "        0.09478947368421052, 0.1],\n",
       "       [0.001, 0.006210526315789474, 0.011421052631578946,\n",
       "        0.01663157894736842, 0.021842105263157895, 0.02705263157894737,\n",
       "        0.03226315789473684, 0.03747368421052632, 0.04268421052631579,\n",
       "        0.04789473684210526, 0.05310526315789474, 0.05831578947368421,\n",
       "        0.06352631578947368, 0.06873684210526315, 0.07394736842105264,\n",
       "        0.07915789473684211, 0.08436842105263158, 0.08957894736842105,\n",
       "        0.09478947368421052, 0.1],\n",
       "       [0.001, 0.006210526315789474, 0.011421052631578946,\n",
       "        0.01663157894736842, 0.021842105263157895, 0.02705263157894737,\n",
       "        0.03226315789473684, 0.03747368421052632, 0.04268421052631579,\n",
       "        0.04789473684210526, 0.05310526315789474, 0.05831578947368421,\n",
       "        0.06352631578947368, 0.06873684210526315, 0.07394736842105264,\n",
       "        0.07915789473684211, 0.08436842105263158, 0.08957894736842105,\n",
       "        0.09478947368421052, 0.1],\n",
       "       [0.001, 0.006210526315789474, 0.011421052631578946,\n",
       "        0.01663157894736842, 0.021842105263157895, 0.02705263157894737,\n",
       "        0.03226315789473684, 0.03747368421052632, 0.04268421052631579,\n",
       "        0.04789473684210526, 0.05310526315789474, 0.05831578947368421,\n",
       "        0.06352631578947368, 0.06873684210526315, 0.07394736842105264,\n",
       "        0.07915789473684211, 0.08436842105263158, 0.08957894736842105,\n",
       "        0.09478947368421052, 0.1],\n",
       "       [0.001, 0.006210526315789474, 0.011421052631578946,\n",
       "        0.01663157894736842, 0.021842105263157895, 0.02705263157894737,\n",
       "        0.03226315789473684, 0.03747368421052632, 0.04268421052631579,\n",
       "        0.04789473684210526, 0.05310526315789474, 0.05831578947368421,\n",
       "        0.06352631578947368, 0.06873684210526315, 0.07394736842105264,\n",
       "        0.07915789473684211, 0.08436842105263158, 0.08957894736842105,\n",
       "        0.09478947368421052, 0.1],\n",
       "       [0.001, 0.006210526315789474, 0.011421052631578946,\n",
       "        0.01663157894736842, 0.021842105263157895, 0.02705263157894737,\n",
       "        0.03226315789473684, 0.03747368421052632, 0.04268421052631579,\n",
       "        0.04789473684210526, 0.05310526315789474, 0.05831578947368421,\n",
       "        0.06352631578947368, 0.06873684210526315, 0.07394736842105264,\n",
       "        0.07915789473684211, 0.08436842105263158, 0.08957894736842105,\n",
       "        0.09478947368421052, 0.1],\n",
       "       [0.001, 0.006210526315789474, 0.011421052631578946,\n",
       "        0.01663157894736842, 0.021842105263157895, 0.02705263157894737,\n",
       "        0.03226315789473684, 0.03747368421052632, 0.04268421052631579,\n",
       "        0.04789473684210526, 0.05310526315789474, 0.05831578947368421,\n",
       "        0.06352631578947368, 0.06873684210526315, 0.07394736842105264,\n",
       "        0.07915789473684211, 0.08436842105263158, 0.08957894736842105,\n",
       "        0.09478947368421052, 0.1],\n",
       "       [0.001, 0.006210526315789474, 0.011421052631578946,\n",
       "        0.01663157894736842, 0.021842105263157895, 0.02705263157894737,\n",
       "        0.03226315789473684, 0.03747368421052632, 0.04268421052631579,\n",
       "        0.04789473684210526, 0.05310526315789474, 0.05831578947368421,\n",
       "        0.06352631578947368, 0.06873684210526315, 0.07394736842105264,\n",
       "        0.07915789473684211, 0.08436842105263158, 0.08957894736842105,\n",
       "        0.09478947368421052, 0.1],\n",
       "       [0.001, 0.006210526315789474, 0.011421052631578946,\n",
       "        0.01663157894736842, 0.021842105263157895, 0.02705263157894737,\n",
       "        0.03226315789473684, 0.03747368421052632, 0.04268421052631579,\n",
       "        0.04789473684210526, 0.05310526315789474, 0.05831578947368421,\n",
       "        0.06352631578947368, 0.06873684210526315, 0.07394736842105264,\n",
       "        0.07915789473684211, 0.08436842105263158, 0.08957894736842105,\n",
       "        0.09478947368421052, 0.1],\n",
       "       [0.001, 0.006210526315789474, 0.011421052631578946,\n",
       "        0.01663157894736842, 0.021842105263157895, 0.02705263157894737,\n",
       "        0.03226315789473684, 0.03747368421052632, 0.04268421052631579,\n",
       "        0.04789473684210526, 0.05310526315789474, 0.05831578947368421,\n",
       "        0.06352631578947368, 0.06873684210526315, 0.07394736842105264,\n",
       "        0.07915789473684211, 0.08436842105263158, 0.08957894736842105,\n",
       "        0.09478947368421052, 0.1],\n",
       "       [0.001, 0.006210526315789474, 0.011421052631578946,\n",
       "        0.01663157894736842, 0.021842105263157895, 0.02705263157894737,\n",
       "        0.03226315789473684, 0.03747368421052632, 0.04268421052631579,\n",
       "        0.04789473684210526, 0.05310526315789474, 0.05831578947368421,\n",
       "        0.06352631578947368, 0.06873684210526315, 0.07394736842105264,\n",
       "        0.07915789473684211, 0.08436842105263158, 0.08957894736842105,\n",
       "        0.09478947368421052, 0.1],\n",
       "       [0.001, 0.006210526315789474, 0.011421052631578946,\n",
       "        0.01663157894736842, 0.021842105263157895, 0.02705263157894737,\n",
       "        0.03226315789473684, 0.03747368421052632, 0.04268421052631579,\n",
       "        0.04789473684210526, 0.05310526315789474, 0.05831578947368421,\n",
       "        0.06352631578947368, 0.06873684210526315, 0.07394736842105264,\n",
       "        0.07915789473684211, 0.08436842105263158, 0.08957894736842105,\n",
       "        0.09478947368421052, 0.1],\n",
       "       [0.001, 0.006210526315789474, 0.011421052631578946,\n",
       "        0.01663157894736842, 0.021842105263157895, 0.02705263157894737,\n",
       "        0.03226315789473684, 0.03747368421052632, 0.04268421052631579,\n",
       "        0.04789473684210526, 0.05310526315789474, 0.05831578947368421,\n",
       "        0.06352631578947368, 0.06873684210526315, 0.07394736842105264,\n",
       "        0.07915789473684211, 0.08436842105263158, 0.08957894736842105,\n",
       "        0.09478947368421052, 0.1],\n",
       "       [0.001, 0.006210526315789474, 0.011421052631578946,\n",
       "        0.01663157894736842, 0.021842105263157895, 0.02705263157894737,\n",
       "        0.03226315789473684, 0.03747368421052632, 0.04268421052631579,\n",
       "        0.04789473684210526, 0.05310526315789474, 0.05831578947368421,\n",
       "        0.06352631578947368, 0.06873684210526315, 0.07394736842105264,\n",
       "        0.07915789473684211, 0.08436842105263158, 0.08957894736842105,\n",
       "        0.09478947368421052, 0.1],\n",
       "       [0.001, 0.006210526315789474, 0.011421052631578946,\n",
       "        0.01663157894736842, 0.021842105263157895, 0.02705263157894737,\n",
       "        0.03226315789473684, 0.03747368421052632, 0.04268421052631579,\n",
       "        0.04789473684210526, 0.05310526315789474, 0.05831578947368421,\n",
       "        0.06352631578947368, 0.06873684210526315, 0.07394736842105264,\n",
       "        0.07915789473684211, 0.08436842105263158, 0.08957894736842105,\n",
       "        0.09478947368421052, 0.1],\n",
       "       [0.001, 0.006210526315789474, 0.011421052631578946,\n",
       "        0.01663157894736842, 0.021842105263157895, 0.02705263157894737,\n",
       "        0.03226315789473684, 0.03747368421052632, 0.04268421052631579,\n",
       "        0.04789473684210526, 0.05310526315789474, 0.05831578947368421,\n",
       "        0.06352631578947368, 0.06873684210526315, 0.07394736842105264,\n",
       "        0.07915789473684211, 0.08436842105263158, 0.08957894736842105,\n",
       "        0.09478947368421052, 0.1],\n",
       "       [0.001, 0.006210526315789474, 0.011421052631578946,\n",
       "        0.01663157894736842, 0.021842105263157895, 0.02705263157894737,\n",
       "        0.03226315789473684, 0.03747368421052632, 0.04268421052631579,\n",
       "        0.04789473684210526, 0.05310526315789474, 0.05831578947368421,\n",
       "        0.06352631578947368, 0.06873684210526315, 0.07394736842105264,\n",
       "        0.07915789473684211, 0.08436842105263158, 0.08957894736842105,\n",
       "        0.09478947368421052, 0.1],\n",
       "       [0.001, 0.006210526315789474, 0.011421052631578946,\n",
       "        0.01663157894736842, 0.021842105263157895, 0.02705263157894737,\n",
       "        0.03226315789473684, 0.03747368421052632, 0.04268421052631579,\n",
       "        0.04789473684210526, 0.05310526315789474, 0.05831578947368421,\n",
       "        0.06352631578947368, 0.06873684210526315, 0.07394736842105264,\n",
       "        0.07915789473684211, 0.08436842105263158, 0.08957894736842105,\n",
       "        0.09478947368421052, 0.1],\n",
       "       [0.001, 0.006210526315789474, 0.011421052631578946,\n",
       "        0.01663157894736842, 0.021842105263157895, 0.02705263157894737,\n",
       "        0.03226315789473684, 0.03747368421052632, 0.04268421052631579,\n",
       "        0.04789473684210526, 0.05310526315789474, 0.05831578947368421,\n",
       "        0.06352631578947368, 0.06873684210526315, 0.07394736842105264,\n",
       "        0.07915789473684211, 0.08436842105263158, 0.08957894736842105,\n",
       "        0.09478947368421052, 0.1]], dtype=object)"
      ]
     },
     "execution_count": 56,
     "metadata": {},
     "output_type": "execute_result"
    }
   ],
   "source": [
    "param_gamma.T"
   ]
  },
  {
   "cell_type": "code",
   "execution_count": 59,
   "metadata": {},
   "outputs": [
    {
     "data": {
      "text/plain": [
       "0            0.001\n",
       "1       0.00621053\n",
       "2        0.0114211\n",
       "3        0.0166316\n",
       "4        0.0218421\n",
       "           ...    \n",
       "7995     0.0791579\n",
       "7996     0.0843684\n",
       "7997     0.0895789\n",
       "7998     0.0947895\n",
       "7999           0.1\n",
       "Name: param_gamma, Length: 8000, dtype: object"
      ]
     },
     "execution_count": 59,
     "metadata": {},
     "output_type": "execute_result"
    }
   ],
   "source": [
    "para_result['param_gamma']"
   ]
  },
  {
   "cell_type": "code",
   "execution_count": 58,
   "metadata": {},
   "outputs": [],
   "source": [
    "# import numpy as np\n",
    "# import matplotlib.pyplot as plt\n",
    "# from mpl_toolkits.mplot3d import Axes3D\n",
    "# from matplotlib import cm\n",
    "\n",
    "# create some fake data\n",
    "# x = y = np.arange(-4.0, 4.0, 0.02)\n",
    "# here are the x,y and respective z values\n",
    "# X, Y = np.meshgrid(x, y)\n",
    "# Z = np.sinc(np.sqrt(X*X+Y*Y))\n",
    "# this is the value to use for the color\n",
    "# V = np.sin(Y)\n",
    "# print(X.shape)\n",
    "# print(Z.shape)\n",
    "# create the figure, add a 3d axis, set the viewing angle\n",
    "# fig = plt.figure()\n",
    "# ax = fig.add_subplot(111, projection='3d')\n",
    "# ax.view_init(45,60)\n",
    "\n",
    "# here we create the surface plot, but pass V through a colormap\n",
    "# to create a different color for each patch\n",
    "# ax.plot_surface(X, Y, Z, facecolors=cm.Oranges(V))"
   ]
  },
  {
   "cell_type": "code",
   "execution_count": null,
   "metadata": {},
   "outputs": [],
   "source": []
  }
 ],
 "metadata": {
  "kernelspec": {
   "display_name": "Python 3",
   "language": "python",
   "name": "python3"
  },
  "language_info": {
   "codemirror_mode": {
    "name": "ipython",
    "version": 3
   },
   "file_extension": ".py",
   "mimetype": "text/x-python",
   "name": "python",
   "nbconvert_exporter": "python",
   "pygments_lexer": "ipython3",
   "version": "3.7.4"
  },
  "toc": {
   "base_numbering": 1,
   "nav_menu": {},
   "number_sections": true,
   "sideBar": true,
   "skip_h1_title": false,
   "title_cell": "Table of Contents",
   "title_sidebar": "Contents",
   "toc_cell": false,
   "toc_position": {},
   "toc_section_display": true,
   "toc_window_display": true
  }
 },
 "nbformat": 4,
 "nbformat_minor": 2
}
